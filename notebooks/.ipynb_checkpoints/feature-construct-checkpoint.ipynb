{
 "cells": [
  {
   "cell_type": "code",
   "execution_count": 1,
   "metadata": {},
   "outputs": [],
   "source": [
    "import numpy as np\n",
    "import pandas as pd"
   ]
  },
  {
   "cell_type": "code",
   "execution_count": 2,
   "metadata": {},
   "outputs": [],
   "source": [
    "train = pd.read_csv(\"../data/train.csv\", parse_dates=True, low_memory=False, index_col = \"Date\")\n",
    "store = pd.read_csv(\"../data/store.csv\", low_memory=False)\n",
    "store.fillna(0, inplace = True)"
   ]
  },
  {
   "cell_type": "code",
   "execution_count": 3,
   "metadata": {},
   "outputs": [],
   "source": [
    "train[\"Year\"] = train.index.year\n",
    "train[\"Month\"] = train.index.month\n",
    "train[\"Day\"] = train.index.day\n",
    "train[\"WeekOfYear\"] = train.index.weekofyear\n",
    "train[\"SalesPerCustomer\"] = train[\"Sales\"] / train[\"Customers\"]"
   ]
  },
  {
   "cell_type": "code",
   "execution_count": 4,
   "metadata": {},
   "outputs": [],
   "source": [
    "train = train[(train[\"Open\"] != 0) & (train[\"Sales\"] != 0)].copy()"
   ]
  },
  {
   "cell_type": "code",
   "execution_count": 5,
   "metadata": {},
   "outputs": [],
   "source": [
    "train_store = pd.merge(train, store, how = \"inner\", on = \"Store\")"
   ]
  },
  {
   "cell_type": "code",
   "execution_count": 6,
   "metadata": {},
   "outputs": [],
   "source": [
    "train_store_expand_date = pd.merge(train.reset_index(), store, how = \"inner\", on = \"Store\")"
   ]
  },
  {
   "cell_type": "code",
   "execution_count": 7,
   "metadata": {},
   "outputs": [],
   "source": [
    "schoolh_by_store = train_store_expand_date[[\"Store\", \"SchoolHoliday\", \"Date\"]].groupby(\"Store\")[[\"SchoolHoliday\", \"Date\"]].apply(dict)"
   ]
  },
  {
   "cell_type": "code",
   "execution_count": 8,
   "metadata": {},
   "outputs": [],
   "source": [
    "from functools import reduce\n",
    "inter_dates = sorted(list(reduce(lambda a, b: a.intersection(b) ,schoolh_by_store.map(lambda dict_: set(dict_[\"Date\"].tolist())).tolist())))"
   ]
  },
  {
   "cell_type": "code",
   "execution_count": 9,
   "metadata": {},
   "outputs": [],
   "source": [
    "def retrieve_sd_list(dict_):\n",
    "    SchoolHoliday = dict_[\"SchoolHoliday\"].tolist()\n",
    "    Date = dict_[\"Date\"].tolist()\n",
    "    assert len(SchoolHoliday) == len(Date)\n",
    "    req = []\n",
    "    for ele in inter_dates:\n",
    "        idx = Date.index(ele)\n",
    "        req.append(SchoolHoliday[idx])\n",
    "    return req\n",
    "schoolh_inter_idxes = schoolh_by_store.map(\n",
    "    retrieve_sd_list\n",
    ")"
   ]
  },
  {
   "cell_type": "code",
   "execution_count": 10,
   "metadata": {},
   "outputs": [],
   "source": [
    "school_holiday_store_df = schoolh_inter_idxes.map(lambda x: \"\".join(map(str,x))).reset_index()"
   ]
  },
  {
   "cell_type": "code",
   "execution_count": 11,
   "metadata": {},
   "outputs": [],
   "source": [
    "from copy import deepcopy \n",
    "store_cp = deepcopy(store)\n",
    "store_cp_info = pd.merge(store_cp, school_holiday_store_df, on = \"Store\", how = \"inner\")"
   ]
  },
  {
   "cell_type": "code",
   "execution_count": 12,
   "metadata": {},
   "outputs": [],
   "source": [
    "from functools import reduce\n",
    "PromoInterval_cnt_series = pd.Series(reduce(lambda a, b: a + b ,store_cp_info[\"PromoInterval\"].map(lambda x: list(map(lambda y :\"PromoInterval_{}\".format(y),x.split(\",\"))) if type(x) == type(\"\") else []).values.tolist())).value_counts()"
   ]
  },
  {
   "cell_type": "code",
   "execution_count": 13,
   "metadata": {},
   "outputs": [],
   "source": [
    "PromoInterval_expand_columns = PromoInterval_cnt_series.sort_index().index.tolist()"
   ]
  },
  {
   "cell_type": "code",
   "execution_count": 14,
   "metadata": {},
   "outputs": [],
   "source": [
    "store_cp_info_expand_PromoInterval = deepcopy(store_cp_info)\n",
    "for col in PromoInterval_expand_columns:\n",
    "    store_cp_info_expand_PromoInterval[col] = 0"
   ]
  },
  {
   "cell_type": "code",
   "execution_count": 15,
   "metadata": {},
   "outputs": [],
   "source": [
    "for ridx, (idx, r) in enumerate(store_cp_info.iterrows()):\n",
    "    x = r[\"PromoInterval\"]\n",
    "    set_list = list(map(lambda y :\"PromoInterval_{}\".format(y),x.split(\",\"))) if type(x) == type(\"\") else []\n",
    "    for ele in set_list:\n",
    "        store_cp_info_expand_PromoInterval.iloc[ridx, store_cp_info_expand_PromoInterval.columns.get_loc(ele)] = 1"
   ]
  },
  {
   "cell_type": "code",
   "execution_count": 16,
   "metadata": {},
   "outputs": [],
   "source": [
    "store_cp_info_expand_PromoInterval = store_cp_info_expand_PromoInterval.rename(columns = {\n",
    "    0: \"schoolholiday_str\"\n",
    "})"
   ]
  },
  {
   "cell_type": "code",
   "execution_count": 17,
   "metadata": {},
   "outputs": [],
   "source": [
    "def simple_cate_encode(input_series):\n",
    "    idx_value_dict = dict(enumerate(input_series.value_counts().index.tolist()))\n",
    "    value_idx_dict = dict(map(lambda t2: (t2[1], t2[0]), idx_value_dict.items()))\n",
    "    return pd.Series(list(map(lambda x: value_idx_dict[x], input_series.values.tolist())))\n",
    "set_new_columns_dict = dict(map(lambda colname: (colname, simple_cate_encode(store_cp_info_expand_PromoInterval[colname])) ,store_cp_info_expand_PromoInterval.dtypes.map(str)[store_cp_info_expand_PromoInterval.dtypes.map(str) == \"object\"].index.tolist()))"
   ]
  },
  {
   "cell_type": "code",
   "execution_count": 18,
   "metadata": {},
   "outputs": [],
   "source": [
    "for colname, new_col in set_new_columns_dict.items():\n",
    "    store_cp_info_expand_PromoInterval[\"{}_encode\".format(colname)] = new_col"
   ]
  },
  {
   "cell_type": "code",
   "execution_count": 19,
   "metadata": {},
   "outputs": [
    {
     "name": "stdout",
     "output_type": "stream",
     "text": [
      "add num : 3\n"
     ]
    }
   ],
   "source": [
    "def transform_columns(left, right):\n",
    "    assert \"Store\" in left.columns.tolist() and \"Store\" in right.columns.tolist()\n",
    "    right_encoded_colnames = list(filter(lambda colname: colname.endswith(\"_encode\") ,right.columns.tolist()))\n",
    "    right_encoded_colnames.remove(\"schoolholiday_str_encode\")\n",
    "    print(\"add num : {}\".format(len(right_encoded_colnames)))\n",
    "    left_replace_colnames = list(map(lambda colname: colname.replace(\"_encode\", \"\"), right_encoded_colnames))          \n",
    "    assert len(left_replace_colnames) == len(set(left_replace_colnames).intersection(set(left.columns.tolist())))\n",
    "    left_before_merge = left.copy()\n",
    "    for col in left_replace_colnames:\n",
    "        del left_before_merge[col]\n",
    "    right_before_merge = right.copy()\n",
    "    merged = pd.merge(left = left_before_merge, right = right_before_merge, on = \"Store\", how = \"inner\")\n",
    "    assert left.shape[0] == merged.shape[0]\n",
    "    return merged\n",
    "    \n",
    "right_cols = store_cp_info_expand_PromoInterval.columns.tolist()[store_cp_info_expand_PromoInterval.columns.tolist().index(\"PromoInterval_Apr\"):]\n",
    "right_cols = [\"Store\"] + right_cols\n",
    "train_store_encoded = transform_columns(left = train_store_expand_date, right = store_cp_info_expand_PromoInterval[right_cols])"
   ]
  },
  {
   "cell_type": "code",
   "execution_count": 20,
   "metadata": {},
   "outputs": [],
   "source": [
    "obj_cols = train_store_encoded.dtypes.map(str)[train_store_encoded.dtypes.map(str) == \"object\"].index.tolist()\n",
    "for col in obj_cols:\n",
    "    train_store_encoded[\"{}_encode\".format(col)] = simple_cate_encode(train_store_encoded[col])\n",
    "    del train_store_encoded[col]"
   ]
  },
  {
   "cell_type": "code",
   "execution_count": 21,
   "metadata": {},
   "outputs": [],
   "source": [
    "if \"Open\" in train_store_encoded.columns.tolist():\n",
    "    del train_store_encoded[\"Open\"]"
   ]
  },
  {
   "cell_type": "code",
   "execution_count": 22,
   "metadata": {},
   "outputs": [],
   "source": [
    "int_cols = train_store_encoded.dtypes.map(str)[train_store_encoded.dtypes.map(str) == \"int64\"].index.tolist()\n",
    "int_cols_stats = train_store_encoded[int_cols].apply(lambda s: len(s.value_counts()), axis = 0)\n",
    "bool_cols = int_cols_stats[int_cols_stats == 2]\n",
    "bool_stats = int_cols_stats.loc[bool_cols.index]\n",
    "others = list(set(int_cols_stats.index.tolist()).difference(set(bool_cols.index.tolist())))\n",
    "other_stats = int_cols_stats.loc[others]\n",
    "encode_cols = list(filter(lambda x: x.endswith(\"_encode\"), other_stats.index.tolist()))\n",
    "encode_stats = int_cols_stats.loc[encode_cols]\n",
    "others = list(set(others).difference(set(encode_stats.index.tolist())))\n",
    "other_stats = int_cols_stats.loc[others]"
   ]
  },
  {
   "cell_type": "code",
   "execution_count": 23,
   "metadata": {},
   "outputs": [],
   "source": [
    "int_cols_stats_list = [bool_stats, encode_stats, other_stats]\n",
    "float_cols = train_store_encoded.dtypes.map(str)[train_store_encoded.dtypes.map(str) == \"float64\"].index.tolist()\n",
    "float_stats = train_store_encoded[float_cols].apply(lambda x: len(x.value_counts()), axis = 0)\n",
    "ds_stats = train_store_encoded[train_store_encoded.dtypes.map(str)[train_store_encoded.dtypes.map(str) == \"datetime64[ns]\"].index.tolist()].apply(lambda x: len(x.value_counts()), axis = 0)\n",
    "all_cols_stats_list = int_cols_stats_list + [float_stats, ds_stats]"
   ]
  },
  {
   "cell_type": "code",
   "execution_count": 24,
   "metadata": {},
   "outputs": [],
   "source": [
    "from functools import reduce\n",
    "assert reduce(lambda a, b: a + b ,map(len ,all_cols_stats_list)) == train_store_encoded.shape[1]"
   ]
  },
  {
   "cell_type": "code",
   "execution_count": 25,
   "metadata": {},
   "outputs": [],
   "source": [
    "from sklearn.preprocessing import OneHotEncoder\n",
    "enc = OneHotEncoder()\n",
    "enc_part = enc.fit_transform(train_store_encoded[encode_stats.index.tolist()])"
   ]
  },
  {
   "cell_type": "code",
   "execution_count": 26,
   "metadata": {},
   "outputs": [],
   "source": [
    "req = []\n",
    "for col_stats_idx in set(range(len(all_cols_stats_list))).difference(set([1])):\n",
    "    req.append(train_store_encoded[all_cols_stats_list[col_stats_idx].index.tolist()])\n",
    "req.append(enc_part)"
   ]
  },
  {
   "cell_type": "code",
   "execution_count": 27,
   "metadata": {},
   "outputs": [],
   "source": [
    "#list(map(lambda x: x.shape, req))"
   ]
  },
  {
   "cell_type": "code",
   "execution_count": 28,
   "metadata": {},
   "outputs": [],
   "source": [
    "train_store_encoded_onehot = pd.concat(map(lambda x: x if type(x) == type(pd.DataFrame()) else pd.DataFrame(x.toarray()) ,req), axis = 1)"
   ]
  },
  {
   "cell_type": "code",
   "execution_count": 29,
   "metadata": {},
   "outputs": [
    {
     "data": {
      "text/plain": [
       "(Index([                    'Promo',             'SchoolHoliday',\n",
       "                           'Promo2',         'PromoInterval_Apr',\n",
       "                'PromoInterval_Aug',         'PromoInterval_Dec',\n",
       "                'PromoInterval_Feb',         'PromoInterval_Jan',\n",
       "                'PromoInterval_Jul',         'PromoInterval_Jun',\n",
       "                'PromoInterval_Mar',         'PromoInterval_May',\n",
       "                'PromoInterval_Nov',         'PromoInterval_Oct',\n",
       "               'PromoInterval_Sept',                 'Customers',\n",
       "                       'WeekOfYear',                     'Sales',\n",
       "                            'Month',                     'Store',\n",
       "                              'Day',                 'DayOfWeek',\n",
       "                             'Year',          'SalesPerCustomer',\n",
       "              'CompetitionDistance', 'CompetitionOpenSinceMonth',\n",
       "         'CompetitionOpenSinceYear',           'Promo2SinceWeek',\n",
       "                  'Promo2SinceYear',                      'Date',\n",
       "                                  0,                           1,\n",
       "                                  2,                           3,\n",
       "                                  4,                           5,\n",
       "                                  6,                           7,\n",
       "                                  8,                           9,\n",
       "                                 10,                          11,\n",
       "                                 12,                          13,\n",
       "                                 14,                          15,\n",
       "                                 16,                          17,\n",
       "                                 18,                          19,\n",
       "                                 20,                          21,\n",
       "                                 22,                          23,\n",
       "                                 24,                          25,\n",
       "                                 26],\n",
       "       dtype='object'),\n",
       " (844338, 57))"
      ]
     },
     "execution_count": 29,
     "metadata": {},
     "output_type": "execute_result"
    }
   ],
   "source": [
    "train_store_encoded_onehot.columns, train_store_encoded_onehot.shape"
   ]
  },
  {
   "cell_type": "code",
   "execution_count": 30,
   "metadata": {},
   "outputs": [],
   "source": [
    "train_store_encoded.to_csv(\"../data/train_store_encoded.csv\", index = False)\n",
    "train_store_expand_date.to_csv(\"../data/train_store_expand_date.csv\", index = False)\n",
    "train_store_encoded_onehot.to_csv(\"../data/train_store_encoded_onehot.csv\", index = False)"
   ]
  },
  {
   "cell_type": "code",
   "execution_count": null,
   "metadata": {},
   "outputs": [],
   "source": []
  }
 ],
 "metadata": {
  "kernelspec": {
   "display_name": "Python 3",
   "language": "python",
   "name": "python3"
  },
  "language_info": {
   "codemirror_mode": {
    "name": "ipython",
    "version": 3
   },
   "file_extension": ".py",
   "mimetype": "text/x-python",
   "name": "python",
   "nbconvert_exporter": "python",
   "pygments_lexer": "ipython3",
   "version": "3.8.3"
  }
 },
 "nbformat": 4,
 "nbformat_minor": 4
}
