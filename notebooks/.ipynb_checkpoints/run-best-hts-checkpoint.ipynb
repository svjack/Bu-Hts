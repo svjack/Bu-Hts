{
 "cells": [
  {
   "cell_type": "code",
   "execution_count": 1,
   "metadata": {},
   "outputs": [],
   "source": [
    "import numpy as np\n",
    "import pandas as pd\n",
    "from fbprophet import Prophet\n",
    "import os\n",
    "import json"
   ]
  },
  {
   "cell_type": "code",
   "execution_count": 2,
   "metadata": {},
   "outputs": [],
   "source": [
    "import inspect\n",
    "def get_default_args(func):\n",
    "    signature = inspect.signature(func)\n",
    "    return{\n",
    "        k: v.default\n",
    "        for k, v in signature.parameters.items()\n",
    "        if v.default is not inspect.Parameter.empty \n",
    "    }\n",
    "\n",
    "prophet_defaults = get_default_args(Prophet)"
   ]
  },
  {
   "cell_type": "code",
   "execution_count": 3,
   "metadata": {},
   "outputs": [],
   "source": [
    "hierarchy = {\"total\": [\"aa\", \"ca\", \"ac\", \"cc\", \"dc\", \"da\"]}"
   ]
  },
  {
   "cell_type": "code",
   "execution_count": 4,
   "metadata": {},
   "outputs": [],
   "source": [
    "df_path = \"../data/df_add_lookup.csv\"\n",
    "df = pd.read_csv(df_path)\n",
    "shift_cols = list(filter(lambda x: x.startswith(\"Customers\") or x.startswith(\"Sales\"),df.columns.tolist()))\n",
    "for col in shift_cols:\n",
    "    df[col] = df[col].shift(1)\n",
    "#df = df.dropna()\n",
    "df = df.fillna(0)\n",
    "if \"Date\" in df.columns.tolist():\n",
    "    df.index = pd.to_datetime(df[\"Date\"])\n",
    "    del df[\"Date\"]\n",
    "df = df.asfreq(\"D\")"
   ]
  },
  {
   "cell_type": "code",
   "execution_count": 5,
   "metadata": {},
   "outputs": [],
   "source": [
    "head_set = set(filter(lambda x: \"_\" in x ,map(lambda col: col[:col.rfind(\"_\")] ,df.columns.tolist())))\n",
    "cate_set = set(filter(lambda x: \"_\" not in x ,map(lambda col: col[col.rfind(\"_\") + 1:] ,df.columns.tolist())))"
   ]
  },
  {
   "cell_type": "code",
   "execution_count": 6,
   "metadata": {},
   "outputs": [],
   "source": [
    "from hts.model import FBProphetModel\n",
    "from hts.model.p import *\n",
    "class FBProphetModel_Add_Version(FBProphetModel):\n",
    "    def create_model(self, *args, **kwargs):\n",
    "        self.lookup_df = None\n",
    "        has_children = bool(self.node.children)\n",
    "        is_children = not has_children\n",
    "        print(\"will create {} model {}\".format(\"leaf\" if is_children else \"branch\", self.node) + \"-\" * 10)\n",
    "        if \"ext_args\" not in kwargs:\n",
    "            return super(FBProphetModel_Add_Version, self).create_model(*args, **kwargs)\n",
    "        base_kwargs = dict()\n",
    "        for k, v in kwargs.items():\n",
    "            if k not in [\"ext_args\", \"add_reg\"]:\n",
    "                base_kwargs[k] = v\n",
    "        base_model = super(FBProphetModel_Add_Version, self).create_model(*args, **base_kwargs)\n",
    "        #base_model = super().create_model(*args, **kwargs)\n",
    "        ext_args_dict = kwargs[\"ext_args\"]\n",
    "        if \"seasonality\" in ext_args_dict:\n",
    "            assert type(ext_args_dict[\"seasonality\"]) == type([])\n",
    "            for seasonality_dict in ext_args_dict[\"seasonality\"]:\n",
    "                name, period, fourier_order, prior_scale = seasonality_dict[\"name\"], seasonality_dict[\"period\"], seasonality_dict[\"fourier_order\"], seasonality_dict[\"prior_scale\"]\n",
    "                base_model.add_seasonality(name = name, period = period, fourier_order = fourier_order, prior_scale =prior_scale)\n",
    "                print(\"seasonality {} {} {} {} added\".format(name, period, fourier_order, prior_scale))\n",
    "        if \"add_reg\" in kwargs and \"data\" in kwargs[\"add_reg\"] and kwargs[\"add_reg\"][\"data\"] is not None:\n",
    "            assert \"reg\" in ext_args_dict\n",
    "            print(\"reg\")\n",
    "            reg_prior_dict = ext_args_dict[\"reg\"]\n",
    "            self.lookup_df = kwargs[\"add_reg\"][\"data\"]\n",
    "            cate = self.node.key\n",
    "            assert cate in cate_set\n",
    "            for col in map(lambda x: \"{}_{}\".format(x, cate), head_set):\n",
    "                if \"_mean_\" in col:\n",
    "                    prior_scale = reg_prior_dict[\"{}_prior\".format(col)]\n",
    "                    base_model.add_regressor(col, prior_scale = prior_scale)\n",
    "                    #print(\"reg {} added\".format(col))\n",
    "        return base_model\n",
    "    def fit(self, **fit_args) -> 'TimeSeriesModel':\n",
    "        df = self._reformat(self.node.item)\n",
    "\n",
    "        if self.lookup_df is not None:\n",
    "            lookup_df = self.lookup_df\n",
    "            before_shape = df.shape\n",
    "            if \"Date\" not in lookup_df.columns.tolist():\n",
    "                lookup_df = lookup_df.reset_index()\n",
    "            ds_col = list(map(lambda tt2: tt2[0] ,filter(lambda t2: t2[-1] ,lookup_df.dtypes.map(str).map(lambda x: x == \"datetime64[ns]\").to_dict().items())))[0]\n",
    "            lookup_df = lookup_df.rename(columns = {ds_col: \"ds\"})\n",
    "            df = pd.merge(df, lookup_df, on = \"ds\", how = \"inner\")\n",
    "            print(\"fit merge shape {} before shape {}\".format(df.shape, before_shape))\n",
    "            \n",
    "        with suppress_stdout_stderr():\n",
    "            self.model = self.model.fit(df)\n",
    "            self.model.stan_backend = None\n",
    "        return self\n",
    "\n",
    "    def predict(self,\n",
    "                node: HierarchyTree,\n",
    "                freq: str = 'D',\n",
    "                steps_ahead: int = 1):\n",
    "\n",
    "        df = self._reformat(node.item)\n",
    "        future = self.model.make_future_dataframe(periods=steps_ahead,\n",
    "                                                  freq=freq,\n",
    "                                                  include_history=True)\n",
    "        if self.cap:\n",
    "            future['cap'] = self.cap\n",
    "        if self.floor:\n",
    "            future['floor'] = self.floor\n",
    "        \n",
    "        if self.lookup_df is not None:\n",
    "            lookup_df = self.lookup_df\n",
    "            before_shape = future.shape\n",
    "            if \"Date\" not in lookup_df.columns.tolist():\n",
    "                lookup_df = lookup_df.reset_index()\n",
    "            ds_col = list(map(lambda tt2: tt2[0] ,filter(lambda t2: t2[-1] ,lookup_df.dtypes.map(str).map(lambda x: x == \"datetime64[ns]\").to_dict().items())))[0]\n",
    "            lookup_df = lookup_df.rename(columns = {ds_col: \"ds\"})\n",
    "            future = pd.merge(future, lookup_df, on = \"ds\", how = \"inner\")\n",
    "            print(\"pred merge shape {} before shape {}\".format(future.shape, before_shape))\n",
    "        \n",
    "        self.forecast = self.model.predict(future)\n",
    "        merged = pandas.merge(df, self.forecast, on='ds')\n",
    "        self.residual = (merged['yhat'] - merged['y']).values\n",
    "        self.mse = numpy.mean(numpy.array(self.residual) ** 2)\n",
    "        if self.cap is not None:\n",
    "            self.forecast.yhat = numpy.exp(self.forecast.yhat)\n",
    "        if self.transform:\n",
    "            self.forecast.yhat = self.transformer.inverse_transform(self.forecast.yhat)\n",
    "            self.forecast.trend = self.transformer.inverse_transform(self.forecast.trend)\n",
    "            for component in [\"seasonal\", \"daily\", \"weekly\", \"yearly\", \"holidays\"]:\n",
    "                if component in self.forecast.columns.tolist():\n",
    "                    inv_transf = self.transformer.inverse_transform(getattr(self.forecast, component))\n",
    "                    setattr(self.forecast, component, inv_transf)\n",
    "        return self"
   ]
  },
  {
   "cell_type": "code",
   "execution_count": 7,
   "metadata": {},
   "outputs": [],
   "source": [
    "from hts.revision import *\n",
    "class RevisionMethod_BU(RevisionMethod):\n",
    "    def _y_hat_matrix(self, forecasts):\n",
    "        print(\"forecasts first key: {}\".format(list(forecasts.keys())[0]))\n",
    "        n_cols = len(list(forecasts.keys())) + 1\n",
    "        keys = range(n_cols - self.sum_mat.shape[1] - 1, n_cols - 1)\n",
    "        #named_keys = list(map(lambda k_idx: list(forecasts.keys())[k_idx], keys))\n",
    "        named_keys = list(set(forecasts.keys()).difference(set([\"total\"])))\n",
    "        return y_hat_matrix(forecasts, keys=named_keys)"
   ]
  },
  {
   "cell_type": "code",
   "execution_count": 8,
   "metadata": {},
   "outputs": [],
   "source": [
    "from hts.core.regressor import *\n",
    "class HTSRegressor_Add_Verison(HTSRegressor):\n",
    "    def _init_revision(self):\n",
    "        self.revision_method = RevisionMethod_BU(sum_mat=self.sum_mat, transformer=self.transform, name=self.method)\n",
    "    def _set_model_instance(self):\n",
    "        from hts import model as hts_models\n",
    "        from copy import deepcopy\n",
    "        model_mapping = deepcopy(hts_models.MODEL_MAPPING)\n",
    "        model_mapping[\"prophet\"] = FBProphetModel_Add_Version\n",
    "        try:\n",
    "            self.model_instance = model_mapping[self.model]\n",
    "        except KeyError:\n",
    "            raise InvalidArgumentException(f'Model {self.model} not valid. Pick one of: {\" \".join(Model.names())}')\n",
    "            \n",
    "    def _revise(self, steps_ahead=1):\n",
    "        logger.info(f'Reconciling forecasts using {self.revision_method}')\n",
    "        revised = self.revision_method.revise(\n",
    "            forecasts=self.hts_result.forecasts,\n",
    "            mse=self.hts_result.errors,\n",
    "            nodes=self.nodes\n",
    "        )\n",
    "\n",
    "        revised_columns = list(make_iterable(self.nodes))\n",
    "        revised_index = self._get_predict_index(steps_ahead=steps_ahead)\n",
    "        return pandas.DataFrame(revised,\n",
    "                                index=revised_index,\n",
    "                                columns=revised_columns)"
   ]
  },
  {
   "cell_type": "code",
   "execution_count": 9,
   "metadata": {},
   "outputs": [],
   "source": [
    "import pickle as pkl\n",
    "with open(\"../working/serlize_m_dict.pkl\", \"rb\") as f:\n",
    "    serlize_m_dict = pkl.load(f)"
   ]
  },
  {
   "cell_type": "code",
   "execution_count": 12,
   "metadata": {},
   "outputs": [],
   "source": [
    "best_key = min(serlize_m_dict.keys())\n",
    "best_kw = serlize_m_dict[best_key][-1]"
   ]
  },
  {
   "cell_type": "code",
   "execution_count": 13,
   "metadata": {},
   "outputs": [
    {
     "data": {
      "text/plain": [
       "0.07803147260102768"
      ]
     },
     "execution_count": 13,
     "metadata": {},
     "output_type": "execute_result"
    }
   ],
   "source": [
    "best_key"
   ]
  },
  {
   "cell_type": "code",
   "execution_count": 14,
   "metadata": {},
   "outputs": [],
   "source": [
    "def retrieve_clf(kw):\n",
    "    from copy import deepcopy\n",
    "    from time import time\n",
    "    from fbprophet.diagnostics import generate_cutoffs, performance_metrics\n",
    "    start_time = time()\n",
    "    assert type(kw) == type(dict())\n",
    "    \n",
    "    n_changepoints = int(kw[\"n_changepoints\"])\n",
    "    changepoint_range = kw[\"changepoint_range\"]\n",
    "    seasonality_prior_scale = kw[\"seasonality_prior_scale\"]\n",
    "    holidays_prior_scale = kw[\"holidays_prior_scale\"]\n",
    "    changepoint_prior_scale = kw[\"changepoint_prior_scale\"]\n",
    "    \n",
    "    yearly_fourier_order = int(kw[\"yearly_fourier_order\"])\n",
    "    weekly_fourier_order = int(kw[\"weekly_fourier_order\"])\n",
    "    monthly_fourier_order = int(kw[\"monthly_fourier_order\"])\n",
    "\n",
    "    yearly_prior = kw[\"yearly_prior\"]\n",
    "    weekly_prior = kw[\"weekly_prior\"]\n",
    "    monthly_prior = kw[\"monthly_prior\"]\n",
    "\n",
    "    kwargs = dict()\n",
    "    kwargs[\"yearly_seasonality\"] = False\n",
    "    kwargs[\"daily_seasonality\"] = False\n",
    "    kwargs[\"weekly_seasonality\"] = False\n",
    "    kwargs[\"ext_args\"] = {\n",
    "    \"seasonality\": [],\n",
    "    \"reg\": {}\n",
    "}\n",
    "\n",
    "    kwargs[\"ext_args\"][\"seasonality\"].append(\n",
    "    {\n",
    "        \"name\": \"yearly\",\n",
    "        \"period\": 365.25,\n",
    "        \"fourier_order\": yearly_fourier_order,\n",
    "        \"prior_scale\": yearly_prior\n",
    "    }\n",
    ")\n",
    "    kwargs[\"ext_args\"][\"seasonality\"].append(\n",
    "    {\n",
    "        \"name\": \"weekly\",\n",
    "        \"period\": 7,\n",
    "        \"fourier_order\": weekly_fourier_order,\n",
    "        \"prior_scale\": weekly_prior\n",
    "    }\n",
    ")\n",
    "    kwargs[\"ext_args\"][\"seasonality\"].append(\n",
    "    {\n",
    "        \"name\": \"monthly\",\n",
    "        \"period\": 30.5,\n",
    "        \"fourier_order\": monthly_fourier_order,\n",
    "        \"prior_scale\": monthly_prior\n",
    "    }\n",
    ")\n",
    "    \n",
    "    kwargs[\"n_changepoints\"] = n_changepoints\n",
    "    kwargs[\"seasonality_prior_scale\"] = seasonality_prior_scale\n",
    "    kwargs[\"holidays_prior_scale\"] = holidays_prior_scale\n",
    "    kwargs[\"changepoint_prior_scale\"] = changepoint_prior_scale\n",
    "    \n",
    "    kwargs[\"changepoint_range\"] = changepoint_range\n",
    "    kwargs[\"add_reg\"] = {\n",
    "        \"data\": None, \n",
    "    }\n",
    "    \n",
    "    horizon = \"7 days\"\n",
    "    period = \"7 days\"\n",
    "    initial = \"870 days\"\n",
    "    \n",
    "    horizon, period, initial = map(pd.Timedelta, [horizon, period, initial])\n",
    "    df = pd.read_csv(df_path)\n",
    "    shift_cols = list(filter(lambda x: x.startswith(\"Customers\") or x.startswith(\"Sales\"),df.columns.tolist()))\n",
    "    for col in shift_cols:\n",
    "        df[col] = df[col].shift(1).copy()\n",
    "    df = df.fillna(0)\n",
    "    df[\"Date\"] = pd.to_datetime(df[\"Date\"])\n",
    "    \n",
    "    kwargs[\"add_reg\"][\"data\"] = df\n",
    "    \n",
    "    other_cols = list(filter(lambda col: col not in [\"Date\"] + list(hierarchy.keys()) + list(hierarchy.values())[0] ,df.columns.tolist()))\n",
    "    for col in other_cols:\n",
    "        kwargs[\"ext_args\"][\"reg\"][\"{}_prior\".format(col)] = kw[\"{}_prior\".format(col)]\n",
    "\n",
    "    cutoffs = generate_cutoffs(df = df.reset_index().rename(columns ={\"Date\": \"ds\", \"total\": \"y\"})[[\"ds\", \"y\"]],horizon=horizon, period=period, initial=initial)\n",
    "\n",
    "    cutoffs_list = list(cutoffs)\n",
    "\n",
    "    def cutoff_forecast_gen(input_df, cutoffs_list):\n",
    "        if \"Date\" not in input_df.columns.tolist() and \"ds\" not in input_df.columns.tolist():\n",
    "            input_df = input_df.reset_index() \n",
    "            ds_col = \"Date\"\n",
    "        else:\n",
    "            ds_col = \"Date\" if \"Date\" in input_df.columns.tolist() else \"ds\"\n",
    "        assert ds_col in input_df.columns.tolist()\n",
    "        input_df[ds_col] = pd.to_datetime(input_df[ds_col])\n",
    "        for i in range(len(sorted(cutoffs_list)[:-1])):\n",
    "            time = sorted(cutoffs_list)[i]\n",
    "            df_for_fit = input_df[input_df[ds_col] <= time].copy()\n",
    "            pred_length = (sorted(cutoffs_list)[i + 1] - time).days\n",
    "            df_for_fit.index = df_for_fit[ds_col]\n",
    "            del df_for_fit[ds_col]\n",
    "            yield (df_for_fit, pred_length)\n",
    "\n",
    "    cutoffs_gen = cutoff_forecast_gen(df, cutoffs_list=cutoffs_list)\n",
    "\n",
    "    cutoffs_gen_list = list(cutoffs_gen)\n",
    "\n",
    "    def single_fit_predict(total_df ,clf_for_cp, df_for_fit, hierarchy, pred_length, measure_cols = \"total\", return_errors = True):\n",
    "        assert type(measure_cols) in [type([]), type(\"\")]\n",
    "        measure_cols_list = measure_cols if type(measure_cols) == type([]) else [measure_cols]\n",
    "        from copy import deepcopy\n",
    "        clf = deepcopy(clf_for_cp)\n",
    "        df_for_fit = df_for_fit.asfreq(\"D\")\n",
    "        model = clf.fit(df_for_fit, hierarchy)\n",
    "        preds = model.predict(steps_ahead=pred_length)\n",
    "        if \"Date\" not in total_df.columns.tolist():\n",
    "            total_df = total_df.reset_index()\n",
    "        if \"Date\" not in preds.columns.tolist():\n",
    "            preds = preds.reset_index()\n",
    "        \n",
    "        total_ds_col = list(map(lambda tt2: tt2[0] ,filter(lambda t2: t2[-1] ,total_df.dtypes.map(str).map(lambda x: x == \"datetime64[ns]\").to_dict().items())))[0]\n",
    "        preds_ds_col = list(map(lambda tt2: tt2[0] ,filter(lambda t2: t2[-1] ,preds.dtypes.map(str).map(lambda x: x == \"datetime64[ns]\").to_dict().items())))[0]\n",
    "        preds_lookup_part = preds.sort_values(by = preds_ds_col, ascending = True).tail(pred_length).copy()\n",
    "        total_lookup_part = total_df[total_df[total_ds_col].isin(preds_lookup_part[preds_ds_col])]\n",
    "        print(\"total_part {} preds_part {}\".format(total_lookup_part.shape, preds_lookup_part.shape))\n",
    "        assert len(set(measure_cols_list).intersection(set(total_lookup_part.columns.tolist()))) == len(measure_cols_list)\n",
    "        assert len(set(measure_cols_list).intersection(set(preds_lookup_part.columns.tolist()))) == len(measure_cols_list)\n",
    "        preds_lookup_part = preds_lookup_part[preds_lookup_part[preds_ds_col].isin(total_lookup_part[total_ds_col])]\n",
    "        total_lookup_part = total_lookup_part.sort_values(by = total_ds_col, ascending = True)\n",
    "        preds_lookup_part = preds_lookup_part.sort_values(by = preds_ds_col, ascending = True)\n",
    "        if not return_errors:\n",
    "            return (total_lookup_part[measure_cols_list], preds_lookup_part[measure_cols_list])\n",
    "        \n",
    "        measure_cols_errors = (total_lookup_part[measure_cols_list] - preds_lookup_part[measure_cols_list]).applymap(abs).mean(axis = 0)\n",
    "        mean_errors = measure_cols_errors.mean()\n",
    "        return (measure_cols_errors, mean_errors)\n",
    "    \n",
    "    clf = HTSRegressor_Add_Verison(model='prophet', revision_method='BU', n_jobs=4, low_memory=False, **kwargs)\n",
    "    return clf"
   ]
  },
  {
   "cell_type": "code",
   "execution_count": 15,
   "metadata": {},
   "outputs": [],
   "source": [
    "best_clf = retrieve_clf(best_kw)"
   ]
  },
  {
   "cell_type": "code",
   "execution_count": 17,
   "metadata": {},
   "outputs": [
    {
     "name": "stderr",
     "output_type": "stream",
     "text": [
      "\r",
      "Fitting models:   0%|          | 0/7 [00:00<?, ?it/s]"
     ]
    },
    {
     "name": "stdout",
     "output_type": "stream",
     "text": [
      "will create branch model - total\n",
      "   |- aa\n",
      "   |- ca\n",
      "   |- ac\n",
      "   |- cc\n",
      "   |- dc\n",
      "   - da\n",
      "----------\n",
      "will create leaf model - aa\n",
      "----------\n",
      "will create leaf model - ca\n",
      "----------\n",
      "will create leaf model - ac\n",
      "----------\n",
      "seasonality yearly 365.25 41 3.4673685045253233 added\n",
      "seasonality weekly 7 23 18.19700858609992 added\n",
      "seasonality monthly 30.5 23 9.549925860214394 added\n",
      "reg\n",
      "seasonality yearly 365.25 41 3.4673685045253233 added\n",
      "seasonality weekly 7 23 18.19700858609992 added\n",
      "seasonality monthly 30.5 23 9.549925860214394 addedfit merge shape (899, 1577) before shape (899, 2)\n",
      "\n",
      "reg\n",
      "fit merge shape (899, 1577) before shape (899, 2)\n"
     ]
    },
    {
     "name": "stderr",
     "output_type": "stream",
     "text": [
      "INFO:numexpr.utils:NumExpr defaulting to 4 threads.\n",
      "INFO:numexpr.utils:NumExpr defaulting to 4 threads.\n"
     ]
    },
    {
     "name": "stdout",
     "output_type": "stream",
     "text": [
      "seasonality yearly 365.25 41 3.4673685045253233 added\n",
      "seasonality weekly 7 23 18.19700858609992 added\n",
      "seasonality monthly 30.5 23 9.549925860214394 added\n",
      "reg\n",
      "seasonality yearly 365.25 41 3.4673685045253233 added\n",
      "seasonality weekly 7 23 18.19700858609992 added\n",
      "seasonality monthly 30.5 23 9.549925860214394 added\n",
      "reg\n",
      "fit merge shape (899, 1577) before shape (899, 2)\n",
      "fit merge shape (899, 1577) before shape (899, 2)\n"
     ]
    },
    {
     "name": "stderr",
     "output_type": "stream",
     "text": [
      "INFO:numexpr.utils:NumExpr defaulting to 4 threads.\n",
      "INFO:numexpr.utils:NumExpr defaulting to 4 threads.\n"
     ]
    },
    {
     "name": "stdout",
     "output_type": "stream",
     "text": [
      "will create leaf model - cc\n",
      "----------\n"
     ]
    },
    {
     "name": "stderr",
     "output_type": "stream",
     "text": [
      "\r",
      "Fitting models:  14%|█▍        | 1/7 [00:10<01:05, 10.93s/it]"
     ]
    },
    {
     "name": "stdout",
     "output_type": "stream",
     "text": [
      "seasonality yearly 365.25 41 3.4673685045253233 added\n",
      "seasonality weekly 7 23 18.19700858609992 added\n",
      "seasonality monthly 30.5 23 9.549925860214394 added\n",
      "reg\n",
      "fit merge shape (899, 1577) before shape (899, 2)\n"
     ]
    },
    {
     "name": "stderr",
     "output_type": "stream",
     "text": [
      "\r",
      "Fitting models:  29%|██▊       | 2/7 [00:12<00:41,  8.23s/it]"
     ]
    },
    {
     "name": "stdout",
     "output_type": "stream",
     "text": [
      "will create leaf model - dc\n",
      "----------\n",
      "seasonality yearly 365.25 41 3.4673685045253233 added\n",
      "seasonality weekly 7 23 18.19700858609992 added\n",
      "seasonality monthly 30.5 23 9.549925860214394 added\n",
      "reg\n",
      "fit merge shape (899, 1577) before shape (899, 2)\n"
     ]
    },
    {
     "name": "stderr",
     "output_type": "stream",
     "text": [
      "\r",
      "Fitting models:  43%|████▎     | 3/7 [00:14<00:25,  6.40s/it]"
     ]
    },
    {
     "name": "stdout",
     "output_type": "stream",
     "text": [
      "will create leaf model - da\n",
      "----------\n",
      "seasonality yearly 365.25 41 3.4673685045253233 added\n",
      "seasonality weekly 7 23 18.19700858609992 added\n",
      "seasonality monthly 30.5 23 9.549925860214394 added\n",
      "reg\n",
      "fit merge shape (899, 1577) before shape (899, 2)\n"
     ]
    },
    {
     "name": "stderr",
     "output_type": "stream",
     "text": [
      "Fitting models: 100%|██████████| 7/7 [00:25<00:00,  3.60s/it]\n"
     ]
    }
   ],
   "source": [
    "model = best_clf.fit(df.head(len(df) - 6 * 7), hierarchy)"
   ]
  },
  {
   "cell_type": "code",
   "execution_count": 19,
   "metadata": {},
   "outputs": [
    {
     "name": "stderr",
     "output_type": "stream",
     "text": [
      "\r",
      "Fitting models:   0%|          | 0/7 [00:00<?, ?it/s]"
     ]
    },
    {
     "name": "stdout",
     "output_type": "stream",
     "text": [
      "pred merge shape (941, 1576) before shape (941, 1)\n",
      "pred merge shape (941, 1576) before shape (941, 1)\n",
      "pred merge shape (941, 1576) before shape (941, 1)\n",
      "pred merge shape (941, 1576) before shape (941, 1)\n"
     ]
    },
    {
     "name": "stderr",
     "output_type": "stream",
     "text": [
      "\r",
      "Fitting models:  14%|█▍        | 1/7 [00:13<01:20, 13.36s/it]"
     ]
    },
    {
     "name": "stdout",
     "output_type": "stream",
     "text": [
      "pred merge shape (941, 1576) before shape (941, 1)\n"
     ]
    },
    {
     "name": "stderr",
     "output_type": "stream",
     "text": [
      "Fitting models:  43%|████▎     | 3/7 [00:13<00:26,  6.65s/it]"
     ]
    },
    {
     "name": "stdout",
     "output_type": "stream",
     "text": [
      "pred merge shape (941, 1576) before shape (941, 1)\n",
      "pred merge shape (941, 1576) before shape (941, 1)\n"
     ]
    },
    {
     "name": "stderr",
     "output_type": "stream",
     "text": [
      "Fitting models: 100%|██████████| 7/7 [00:23<00:00,  3.31s/it]"
     ]
    },
    {
     "name": "stdout",
     "output_type": "stream",
     "text": [
      "forecasts first key: aa\n"
     ]
    },
    {
     "name": "stderr",
     "output_type": "stream",
     "text": [
      "\n"
     ]
    }
   ],
   "source": [
    "preds = model.predict(steps_ahead=6 * 7)"
   ]
  },
  {
   "cell_type": "code",
   "execution_count": 20,
   "metadata": {},
   "outputs": [
    {
     "data": {
      "text/plain": [
       "(0.0, 15000000.0)"
      ]
     },
     "execution_count": 20,
     "metadata": {},
     "output_type": "execute_result"
    },
    {
     "data": {
      "image/png": "[encoded data removed]",
      "text/plain": [
       "<Figure size 432x288 with 1 Axes>"
      ]
     },
     "metadata": {
      "needs_background": "light"
     },
     "output_type": "display_data"
    }
   ],
   "source": [
    "import seaborn as sns\n",
    "dates = pd.Series(df.index.tolist())\n",
    "ax = sns.lineplot(data = preds.reset_index()[[\"index\", \"total\"]][preds.reset_index()[\"index\"].isin(dates)][preds.reset_index()[\"index\"] > \"2015-01-01\"], x = \"index\", y = \"total\")\n",
    "ax.axes.set_ylim(0, 1.5 *int(1e7))"
   ]
  },
  {
   "cell_type": "code",
   "execution_count": 21,
   "metadata": {},
   "outputs": [
    {
     "data": {
      "text/plain": [
       "(0.0, 15000000.0)"
      ]
     },
     "execution_count": 21,
     "metadata": {},
     "output_type": "execute_result"
    },
    {
     "data": {
      "image/png": "[encoded data removed]",
      "text/plain": [
       "<Figure size 432x288 with 1 Axes>"
      ]
     },
     "metadata": {
      "needs_background": "light"
     },
     "output_type": "display_data"
    }
   ],
   "source": [
    "ax = sns.lineplot(data = df.reset_index()[df.reset_index()[\"Date\"] > \"2015-01-01\"], x = \"Date\", y = \"total\")\n",
    "ax.axes.set_ylim(0, 1.5 *int(1e7))"
   ]
  },
  {
   "cell_type": "code",
   "execution_count": 22,
   "metadata": {},
   "outputs": [],
   "source": [
    "comp_df = pd.merge(preds[[\"total\"]].tail(6 * 7), df[df.index.isin(preds[\"total\"].index.tolist())][[\"total\"]], left_index=True, right_index=True, how = \"inner\")\n",
    "comp_df.columns = [\"preds\",  \"ori\"]"
   ]
  },
  {
   "cell_type": "code",
   "execution_count": 23,
   "metadata": {},
   "outputs": [
    {
     "data": {
      "text/plain": [
       "<matplotlib.axes._subplots.AxesSubplot at 0x7f7b1664df10>"
      ]
     },
     "execution_count": 23,
     "metadata": {},
     "output_type": "execute_result"
    },
    {
     "data": {
      "image/png": "[encoded data removed]",
      "text/plain": [
       "<Figure size 432x288 with 1 Axes>"
      ]
     },
     "metadata": {
      "needs_background": "light"
     },
     "output_type": "display_data"
    }
   ],
   "source": [
    "preds_df = comp_df[[\"preds\"]].copy()\n",
    "ori_df = comp_df[[\"ori\"]].copy()\n",
    "preds_df[\"cate\"], ori_df[\"cate\"] = \"preds\", \"ori\"\n",
    "preds_df = preds_df.rename(columns={\"preds\": \"val\"})\n",
    "ori_df = ori_df.rename(columns={\"ori\": \"val\"})\n",
    "sns.lineplot(data = pd.concat([ori_df, preds_df], axis = 0).reset_index(), x = \"index\", y = \"val\", hue = \"cate\")"
   ]
  },
  {
   "cell_type": "code",
   "execution_count": 24,
   "metadata": {},
   "outputs": [],
   "source": [
    "def object_func(kw):\n",
    "    from copy import deepcopy\n",
    "    from time import time\n",
    "    from fbprophet.diagnostics import generate_cutoffs, performance_metrics\n",
    "    start_time = time()\n",
    "    assert type(kw) == type(dict())\n",
    "    \n",
    "    n_changepoints = int(kw[\"n_changepoints\"])\n",
    "    changepoint_range = kw[\"changepoint_range\"]\n",
    "    seasonality_prior_scale = kw[\"seasonality_prior_scale\"]\n",
    "    holidays_prior_scale = kw[\"holidays_prior_scale\"]\n",
    "    changepoint_prior_scale = kw[\"changepoint_prior_scale\"]\n",
    "    \n",
    "    yearly_fourier_order = int(kw[\"yearly_fourier_order\"])\n",
    "    weekly_fourier_order = int(kw[\"weekly_fourier_order\"])\n",
    "    monthly_fourier_order = int(kw[\"monthly_fourier_order\"])\n",
    "\n",
    "    yearly_prior = kw[\"yearly_prior\"]\n",
    "    weekly_prior = kw[\"weekly_prior\"]\n",
    "    monthly_prior = kw[\"monthly_prior\"]\n",
    "\n",
    "    kwargs = dict()\n",
    "    kwargs[\"yearly_seasonality\"] = False\n",
    "    kwargs[\"daily_seasonality\"] = False\n",
    "    kwargs[\"weekly_seasonality\"] = False\n",
    "    kwargs[\"ext_args\"] = {\n",
    "    \"seasonality\": [],\n",
    "    \"reg\": {}\n",
    "}\n",
    "\n",
    "    kwargs[\"ext_args\"][\"seasonality\"].append(\n",
    "    {\n",
    "        \"name\": \"yearly\",\n",
    "        \"period\": 365.25,\n",
    "        \"fourier_order\": yearly_fourier_order,\n",
    "        \"prior_scale\": yearly_prior\n",
    "    }\n",
    ")\n",
    "    kwargs[\"ext_args\"][\"seasonality\"].append(\n",
    "    {\n",
    "        \"name\": \"weekly\",\n",
    "        \"period\": 7,\n",
    "        \"fourier_order\": weekly_fourier_order,\n",
    "        \"prior_scale\": weekly_prior\n",
    "    }\n",
    ")\n",
    "    kwargs[\"ext_args\"][\"seasonality\"].append(\n",
    "    {\n",
    "        \"name\": \"monthly\",\n",
    "        \"period\": 30.5,\n",
    "        \"fourier_order\": monthly_fourier_order,\n",
    "        \"prior_scale\": monthly_prior\n",
    "    }\n",
    ")\n",
    "    \n",
    "    kwargs[\"n_changepoints\"] = n_changepoints\n",
    "    kwargs[\"seasonality_prior_scale\"] = seasonality_prior_scale\n",
    "    kwargs[\"holidays_prior_scale\"] = holidays_prior_scale\n",
    "    kwargs[\"changepoint_prior_scale\"] = changepoint_prior_scale\n",
    "    \n",
    "    kwargs[\"changepoint_range\"] = changepoint_range\n",
    "    kwargs[\"add_reg\"] = {\n",
    "        \"data\": None, \n",
    "    }\n",
    "    \n",
    "    horizon = \"7 days\"\n",
    "    period = \"7 days\"\n",
    "    initial = \"870 days\"\n",
    "    \n",
    "    horizon, period, initial = map(pd.Timedelta, [horizon, period, initial])\n",
    "    df = pd.read_csv(df_path)\n",
    "    shift_cols = list(filter(lambda x: x.startswith(\"Customers\") or x.startswith(\"Sales\"),df.columns.tolist()))\n",
    "\n",
    "    for col in shift_cols:\n",
    "        df[col] = df[col].shift(1).copy()\n",
    "\n",
    "    df = df.fillna(0)\n",
    "    df[\"Date\"] = pd.to_datetime(df[\"Date\"])\n",
    "    \n",
    "    kwargs[\"add_reg\"][\"data\"] = df\n",
    "    \n",
    "    other_cols = list(filter(lambda col: col not in [\"Date\"] + list(hierarchy.keys()) + list(hierarchy.values())[0] ,df.columns.tolist()))\n",
    "    for col in other_cols:\n",
    "        kwargs[\"ext_args\"][\"reg\"][\"{}_prior\".format(col)] = kw[\"{}_prior\".format(col)]\n",
    "\n",
    "    cutoffs = generate_cutoffs(df = df.reset_index().rename(columns ={\"Date\": \"ds\", \"total\": \"y\"})[[\"ds\", \"y\"]],horizon=horizon, period=period, initial=initial)\n",
    "\n",
    "    cutoffs_list = list(cutoffs)\n",
    "\n",
    "    def cutoff_forecast_gen(input_df, cutoffs_list):\n",
    "        if \"Date\" not in input_df.columns.tolist() and \"ds\" not in input_df.columns.tolist():\n",
    "            input_df = input_df.reset_index() \n",
    "            ds_col = \"Date\"\n",
    "        else:\n",
    "            ds_col = \"Date\" if \"Date\" in input_df.columns.tolist() else \"ds\"\n",
    "        assert ds_col in input_df.columns.tolist()\n",
    "        input_df[ds_col] = pd.to_datetime(input_df[ds_col])\n",
    "        for i in range(len(sorted(cutoffs_list)[:-1])):\n",
    "            time = sorted(cutoffs_list)[i]\n",
    "            df_for_fit = input_df[input_df[ds_col] <= time].copy()\n",
    "            pred_length = (sorted(cutoffs_list)[i + 1] - time).days\n",
    "            df_for_fit.index = df_for_fit[ds_col]\n",
    "            del df_for_fit[ds_col]\n",
    "            yield (df_for_fit, pred_length)\n",
    "\n",
    "    cutoffs_gen = cutoff_forecast_gen(df, cutoffs_list=cutoffs_list)\n",
    "\n",
    "    cutoffs_gen_list = list(cutoffs_gen)\n",
    "\n",
    "    def single_fit_predict(total_df ,clf_for_cp, df_for_fit, hierarchy, pred_length, measure_cols = \"total\", return_errors = True):\n",
    "        assert type(measure_cols) in [type([]), type(\"\")]\n",
    "        measure_cols_list = measure_cols if type(measure_cols) == type([]) else [measure_cols]\n",
    "        from copy import deepcopy\n",
    "        clf = deepcopy(clf_for_cp)\n",
    "        df_for_fit = df_for_fit.asfreq(\"D\")\n",
    "        model = clf.fit(df_for_fit, hierarchy)\n",
    "        preds = model.predict(steps_ahead=pred_length)\n",
    "        if \"Date\" not in total_df.columns.tolist():\n",
    "            total_df = total_df.reset_index()\n",
    "        if \"Date\" not in preds.columns.tolist():\n",
    "            preds = preds.reset_index()\n",
    "        \n",
    "        total_ds_col = list(map(lambda tt2: tt2[0] ,filter(lambda t2: t2[-1] ,total_df.dtypes.map(str).map(lambda x: x == \"datetime64[ns]\").to_dict().items())))[0]\n",
    "        preds_ds_col = list(map(lambda tt2: tt2[0] ,filter(lambda t2: t2[-1] ,preds.dtypes.map(str).map(lambda x: x == \"datetime64[ns]\").to_dict().items())))[0]\n",
    "        preds_lookup_part = preds.sort_values(by = preds_ds_col, ascending = True).tail(pred_length).copy()\n",
    "        total_lookup_part = total_df[total_df[total_ds_col].isin(preds_lookup_part[preds_ds_col])]\n",
    "        print(\"total_part {} preds_part {}\".format(total_lookup_part.shape, preds_lookup_part.shape))\n",
    "        assert len(set(measure_cols_list).intersection(set(total_lookup_part.columns.tolist()))) == len(measure_cols_list)\n",
    "        assert len(set(measure_cols_list).intersection(set(preds_lookup_part.columns.tolist()))) == len(measure_cols_list)\n",
    "        preds_lookup_part = preds_lookup_part[preds_lookup_part[preds_ds_col].isin(total_lookup_part[total_ds_col])]\n",
    "        total_lookup_part = total_lookup_part.sort_values(by = total_ds_col, ascending = True)\n",
    "        preds_lookup_part = preds_lookup_part.sort_values(by = preds_ds_col, ascending = True)\n",
    "        if not return_errors:\n",
    "            return (total_lookup_part[measure_cols_list], preds_lookup_part[measure_cols_list])\n",
    "        \n",
    "        measure_cols_errors = (total_lookup_part[measure_cols_list] - preds_lookup_part[measure_cols_list]).applymap(abs).mean(axis = 0)\n",
    "        mean_errors = measure_cols_errors.mean()\n",
    "        return (measure_cols_errors, mean_errors)\n",
    "    \n",
    "    clf = HTSRegressor_Add_Verison(model='prophet', revision_method='BU', n_jobs=4, low_memory=False, **kwargs)\n",
    "    \n",
    "    def construct_df_cv_format(ori_df, pred_df, max_date, add_one = True):\n",
    "        assert ori_df.columns.tolist() == pred_df.columns.tolist() and ori_df.shape == pred_df.shape\n",
    "        ori_series_list = []\n",
    "        pred_series_list = []\n",
    "        cols = ori_df.columns.tolist()\n",
    "        for col in cols:\n",
    "            ori_series_list.append(ori_df[col])\n",
    "            pred_series_list.append(pred_df[col])\n",
    "        \n",
    "        def bind_single_series(ori_s, pred_s):\n",
    "            bind_df = pd.concat(list(map(pd.Series,[ori_s.values.tolist(), pred_s.values.tolist()])), axis = 1)\n",
    "            assert bind_df.shape[0] == len(ori_s)\n",
    "            bind_df.columns = [\"y\", \"yhat\"]\n",
    "            if add_one:\n",
    "                bind_df[\"y\"] += 1\n",
    "                bind_df[\"yhat\"] += 1\n",
    "            bind_df[\"ds\"] = pd.date_range(max_date - pd.Timedelta(\"{}d\".format(len(ori_s) - 1)), max_date)\n",
    "            bind_df[\"cutoff\"] = max_date - pd.Timedelta(\"{}d\".format(len(ori_s)))\n",
    "            return bind_df\n",
    "\n",
    "        before_performance_list = list(map(lambda idx: ( ori_series_list[idx].name,bind_single_series(ori_series_list[idx], pred_series_list[idx])), range(len(ori_series_list))))\n",
    "        different_part_dict = dict(map(lambda t2: (t2[0] ,performance_metrics(t2[-1], [\"mape\"])), before_performance_list))\n",
    "        return dict(map(lambda t2: (t2[0], t2[1][\"mape\"].mean()) ,different_part_dict.items()))\n",
    "\n",
    "    use_mape = True\n",
    "    if use_mape:\n",
    "        cutoffs_run_conclusions = list(map(lambda df_and_step:  (pd.Series(df_and_step[0].index.tolist()).max() ,single_fit_predict(df[[\"Date\"] + list(hierarchy.keys()) + list(hierarchy.values())[0]] ,clf, df_and_step[0], hierarchy, df_and_step[1], [\"total\"], return_errors = False)), cutoffs_gen_list))\n",
    "        dict_list = list(map(lambda t2: construct_df_cv_format(t2[-1][0], t2[-1][1], t2[0]), cutoffs_run_conclusions))\n",
    "        from collections import defaultdict\n",
    "        req = defaultdict(list)\n",
    "        for dict_ in dict_list:\n",
    "            for k, v in dict_.items():\n",
    "                req[k].append(v)\n",
    "        req_cp = dict()\n",
    "        for k, v in req.items():\n",
    "            req_cp[k] = pd.Series(v).mean()\n",
    "        score = pd.Series(list(req_cp.values())).mean()\n",
    "    else:\n",
    "        cutoffs_run_conclusions = list(map(lambda df_and_step:  (pd.Series(df_and_step[0].index.tolist()).max() ,single_fit_predict(df ,clf, df_and_step[0], hierarchy, df_and_step[1], [\"total\"], return_errors = True)), cutoffs_gen_list))\n",
    "            \n",
    "        cutoffs_run_conclusions_df = pd.DataFrame(cutoffs_run_conclusions)\n",
    "        cutoffs_run_conclusions_df.columns = [\"Date\", \"error\"]\n",
    "        data_unzipped = pd.concat(list(map(pd.Series ,cutoffs_run_conclusions_df[\"error\"].map(lambda x: dict(x[0])).values.tolist())), axis = 1).T\n",
    "        cutoffs_run_conclusions_df[data_unzipped.columns.tolist()] = data_unzipped\n",
    "        cutoffs_run_conclusions_df = cutoffs_run_conclusions_df[[\"Date\"] + data_unzipped.columns.tolist()]\n",
    "        score = cutoffs_run_conclusions_df[\"total\"].mean()\n",
    "    \n",
    "    '''\n",
    "    import pickle as pkl\n",
    "    import os\n",
    "    retain_size = 100\n",
    "    serlize_path = \"../working/serlize_m_dict.pkl\"\n",
    "    if os.path.exists(serlize_path):\n",
    "        with open(serlize_path, \"rb\") as f:\n",
    "            ori_serlize_m_dict = pkl.load(f)\n",
    "        if len(ori_serlize_m_dict) > retain_size:\n",
    "            ori_serlize_m_dict = dict(list(sorted(ori_serlize_m_dict.items(), key = lambda t2: t2[0]))[:retain_size])\n",
    "    else:\n",
    "        ori_serlize_m_dict = {}\n",
    "    ori_serlize_m_dict = dict([(score, (kw, ))] + list(ori_serlize_m_dict.items()))\n",
    "    \n",
    "    ori_serlize_m_dict = dict(list(sorted(ori_serlize_m_dict.items(), key = lambda t2: t2[0]))[:retain_size])\n",
    "    print(\"list length : {}\".format(len(ori_serlize_m_dict)))\n",
    "    \n",
    "    with open(serlize_path, \"wb\") as f:\n",
    "        pkl.dump(ori_serlize_m_dict, f)\n",
    "    print(\"time consum : {}\".format(time() - start_time))\n",
    "    '''\n",
    "    \n",
    "    return score"
   ]
  },
  {
   "cell_type": "code",
   "execution_count": 25,
   "metadata": {},
   "outputs": [
    {
     "name": "stderr",
     "output_type": "stream",
     "text": [
      "\r",
      "Fitting models:   0%|          | 0/7 [00:00<?, ?it/s]"
     ]
    },
    {
     "name": "stdout",
     "output_type": "stream",
     "text": [
      "will create branch model - total\n",
      "   |- aa\n",
      "   |- ca\n",
      "   |- ac\n",
      "   |- cc\n",
      "   |- dc\n",
      "   - da\n",
      "----------\n",
      "will create leaf model - aa\n",
      "----------\n",
      "will create leaf model - ca\n",
      "----------\n",
      "will create leaf model - ac\n",
      "----------\n",
      "seasonality yearly 365.25 41 3.4673685045253233 added\n",
      "seasonality weekly 7 23 18.19700858609992 added\n",
      "seasonality monthly 30.5 23 9.549925860214394 added\n",
      "reg\n",
      "seasonality yearly 365.25 41 3.4673685045253233 added\n",
      "seasonality yearly 365.25 41 3.4673685045253233 addedseasonality weekly 7 23 18.19700858609992 added\n",
      "seasonality weekly 7 23 18.19700858609992 added\n",
      "seasonality monthly 30.5 23 9.549925860214394 added\n",
      "reg\n",
      "\n",
      "seasonality monthly 30.5 23 9.549925860214394 added\n",
      "fit merge shape (871, 1577) before shape (871, 2)fit merge shape (871, 1577) before shape (871, 2)\n",
      "reg\n",
      "\n"
     ]
    },
    {
     "name": "stderr",
     "output_type": "stream",
     "text": [
      "INFO:numexpr.utils:NumExpr defaulting to 4 threads.\n"
     ]
    },
    {
     "name": "stdout",
     "output_type": "stream",
     "text": [
      "seasonality yearly 365.25 41 3.4673685045253233 added\n",
      "fit merge shape (871, 1577) before shape (871, 2)"
     ]
    },
    {
     "name": "stderr",
     "output_type": "stream",
     "text": [
      "INFO:numexpr.utils:NumExpr defaulting to 4 threads.\n"
     ]
    },
    {
     "name": "stdout",
     "output_type": "stream",
     "text": [
      "seasonality weekly 7 23 18.19700858609992 added\n",
      "\n",
      "seasonality monthly 30.5 23 9.549925860214394 added\n",
      "reg\n"
     ]
    },
    {
     "name": "stderr",
     "output_type": "stream",
     "text": [
      "INFO:numexpr.utils:NumExpr defaulting to 4 threads.\n"
     ]
    },
    {
     "name": "stdout",
     "output_type": "stream",
     "text": [
      "fit merge shape (871, 1577) before shape (871, 2)\n"
     ]
    },
    {
     "name": "stderr",
     "output_type": "stream",
     "text": [
      "INFO:numexpr.utils:NumExpr defaulting to 4 threads.\n"
     ]
    },
    {
     "name": "stdout",
     "output_type": "stream",
     "text": [
      "will create leaf model - cc\n",
      "----------"
     ]
    },
    {
     "name": "stderr",
     "output_type": "stream",
     "text": [
      "\r",
      "Fitting models:  14%|█▍        | 1/7 [00:11<01:06, 11.03s/it]"
     ]
    },
    {
     "name": "stdout",
     "output_type": "stream",
     "text": [
      "\n",
      "seasonality yearly 365.25 41 3.4673685045253233 added\n",
      "seasonality weekly 7 23 18.19700858609992 added\n",
      "seasonality monthly 30.5 23 9.549925860214394 added\n",
      "reg\n",
      "fit merge shape (871, 1577) before shape (871, 2)\n",
      "will create leaf model - dc\n",
      "----------\n"
     ]
    },
    {
     "name": "stderr",
     "output_type": "stream",
     "text": [
      "\r",
      "Fitting models:  29%|██▊       | 2/7 [00:12<00:40,  8.15s/it]"
     ]
    },
    {
     "name": "stdout",
     "output_type": "stream",
     "text": [
      "seasonality yearly 365.25 41 3.4673685045253233 added\n",
      "seasonality weekly 7 23 18.19700858609992 added\n",
      "seasonality monthly 30.5 23 9.549925860214394 addedwill create leaf model - da\n",
      "----------"
     ]
    },
    {
     "name": "stderr",
     "output_type": "stream",
     "text": [
      "\r",
      "Fitting models:  43%|████▎     | 3/7 [00:12<00:23,  5.75s/it]"
     ]
    },
    {
     "name": "stdout",
     "output_type": "stream",
     "text": [
      "\n",
      "\n",
      "reg\n",
      "seasonality yearly 365.25 41 3.4673685045253233 added\n",
      "seasonality weekly 7 23 18.19700858609992 added\n",
      "seasonality monthly 30.5 23 9.549925860214394 addedfit merge shape (871, 1577) before shape (871, 2)\n",
      "reg\n",
      "\n",
      "fit merge shape (871, 1577) before shape (871, 2)\n"
     ]
    },
    {
     "name": "stderr",
     "output_type": "stream",
     "text": [
      "Fitting models: 100%|██████████| 7/7 [00:21<00:00,  3.06s/it]\n",
      "Fitting models:   0%|          | 0/7 [00:00<?, ?it/s]"
     ]
    },
    {
     "name": "stdout",
     "output_type": "stream",
     "text": [
      "pred merge shape (878, 1576) before shape (878, 1)\n",
      "pred merge shape (878, 1576) before shape (878, 1)\n",
      "pred merge shape (878, 1576) before shape (878, 1)\n",
      "pred merge shape (878, 1576) before shape (878, 1)\n"
     ]
    },
    {
     "name": "stderr",
     "output_type": "stream",
     "text": [
      "Fitting models:  29%|██▊       | 2/7 [00:14<00:49,  9.97s/it]"
     ]
    },
    {
     "name": "stdout",
     "output_type": "stream",
     "text": [
      "pred merge shape (878, 1576) before shape (878, 1)\n"
     ]
    },
    {
     "name": "stderr",
     "output_type": "stream",
     "text": [
      "\r",
      "Fitting models:  43%|████▎     | 3/7 [00:14<00:28,  7.04s/it]"
     ]
    },
    {
     "name": "stdout",
     "output_type": "stream",
     "text": [
      "pred merge shape (878, 1576) before shape (878, 1)\n",
      "pred merge shape (878, 1576) before shape (878, 1)\n"
     ]
    },
    {
     "name": "stderr",
     "output_type": "stream",
     "text": [
      "Fitting models: 100%|██████████| 7/7 [00:27<00:00,  3.98s/it]"
     ]
    },
    {
     "name": "stdout",
     "output_type": "stream",
     "text": [
      "forecasts first key: ca\n",
      "total_part (7, 8) preds_part (7, 8)\n"
     ]
    },
    {
     "name": "stderr",
     "output_type": "stream",
     "text": [
      "\n",
      "Fitting models:   0%|          | 0/7 [00:00<?, ?it/s]"
     ]
    },
    {
     "name": "stdout",
     "output_type": "stream",
     "text": [
      "will create branch model - total\n",
      "   |- aa\n",
      "   |- ca\n",
      "   |- ac\n",
      "   |- cc\n",
      "   |- dc\n",
      "   - da\n",
      "----------\n",
      "will create leaf model - aa\n",
      "----------\n",
      "will create leaf model - ca\n",
      "----------\n",
      "will create leaf model - ac\n",
      "----------\n",
      "seasonality yearly 365.25 41 3.4673685045253233 added\n",
      "seasonality yearly 365.25 41 3.4673685045253233 addedseasonality weekly 7 23 18.19700858609992 added\n",
      "\n",
      "seasonality weekly 7 23 18.19700858609992 addedseasonality monthly 30.5 23 9.549925860214394 added\n",
      "\n",
      "seasonality monthly 30.5 23 9.549925860214394 added\n",
      "regreg\n",
      "\n",
      "seasonality yearly 365.25 41 3.4673685045253233 added\n",
      "seasonality weekly 7 23 18.19700858609992 added\n",
      "fit merge shape (878, 1577) before shape (878, 2)fit merge shape (878, 1577) before shape (878, 2)\n",
      "\n",
      "seasonality monthly 30.5 23 9.549925860214394 added\n",
      "reg\n"
     ]
    },
    {
     "name": "stderr",
     "output_type": "stream",
     "text": [
      "INFO:numexpr.utils:NumExpr defaulting to 4 threads.\n",
      "INFO:numexpr.utils:NumExpr defaulting to 4 threads.\n"
     ]
    },
    {
     "name": "stdout",
     "output_type": "stream",
     "text": [
      "fit merge shape (878, 1577) before shape (878, 2)seasonality yearly 365.25 41 3.4673685045253233 added\n",
      "\n",
      "seasonality weekly 7 23 18.19700858609992 added\n",
      "seasonality monthly 30.5 23 9.549925860214394 added\n"
     ]
    },
    {
     "name": "stderr",
     "output_type": "stream",
     "text": [
      "INFO:numexpr.utils:NumExpr defaulting to 4 threads.\n"
     ]
    },
    {
     "name": "stdout",
     "output_type": "stream",
     "text": [
      "reg\n",
      "fit merge shape (878, 1577) before shape (878, 2)\n"
     ]
    },
    {
     "name": "stderr",
     "output_type": "stream",
     "text": [
      "INFO:numexpr.utils:NumExpr defaulting to 4 threads.\n"
     ]
    },
    {
     "name": "stdout",
     "output_type": "stream",
     "text": [
      "will create leaf model - cc\n",
      "----------\n"
     ]
    },
    {
     "name": "stderr",
     "output_type": "stream",
     "text": [
      "\r",
      "Fitting models:  14%|█▍        | 1/7 [00:08<00:52,  8.75s/it]"
     ]
    },
    {
     "name": "stdout",
     "output_type": "stream",
     "text": [
      "seasonality yearly 365.25 41 3.4673685045253233 added\n",
      "seasonality weekly 7 23 18.19700858609992 added\n",
      "seasonality monthly 30.5 23 9.549925860214394 added\n",
      "reg\n",
      "fit merge shape (878, 1577) before shape (878, 2)\n",
      "will create leaf model - dc\n",
      "----------"
     ]
    },
    {
     "name": "stderr",
     "output_type": "stream",
     "text": [
      "\r",
      "Fitting models:  29%|██▊       | 2/7 [00:09<00:31,  6.29s/it]"
     ]
    },
    {
     "name": "stdout",
     "output_type": "stream",
     "text": [
      "\n",
      "seasonality yearly 365.25 41 3.4673685045253233 added\n",
      "seasonality weekly 7 23 18.19700858609992 added\n",
      "seasonality monthly 30.5 23 9.549925860214394 added\n",
      "reg"
     ]
    },
    {
     "name": "stderr",
     "output_type": "stream",
     "text": [
      "\r",
      "Fitting models:  43%|████▎     | 3/7 [00:09<00:17,  4.48s/it]"
     ]
    },
    {
     "name": "stdout",
     "output_type": "stream",
     "text": [
      "\n",
      "will create leaf model - da\n",
      "----------\n",
      "fit merge shape (878, 1577) before shape (878, 2)\n",
      "seasonality yearly 365.25 41 3.4673685045253233 added\n",
      "seasonality weekly 7 23 18.19700858609992 added\n",
      "seasonality monthly 30.5 23 9.549925860214394 added\n",
      "reg\n",
      "fit merge shape (878, 1577) before shape (878, 2)\n"
     ]
    },
    {
     "name": "stderr",
     "output_type": "stream",
     "text": [
      "Fitting models: 100%|██████████| 7/7 [00:20<00:00,  2.99s/it]\n",
      "Fitting models:   0%|          | 0/7 [00:00<?, ?it/s]"
     ]
    },
    {
     "name": "stdout",
     "output_type": "stream",
     "text": [
      "pred merge shape (885, 1576) before shape (885, 1)\n",
      "pred merge shape (885, 1576) before shape (885, 1)\n",
      "pred merge shape (885, 1576) before shape (885, 1)\n",
      "pred merge shape (885, 1576) before shape (885, 1)\n"
     ]
    },
    {
     "name": "stderr",
     "output_type": "stream",
     "text": [
      "\r",
      "Fitting models:  14%|█▍        | 1/7 [00:11<01:11, 11.99s/it]"
     ]
    },
    {
     "name": "stdout",
     "output_type": "stream",
     "text": [
      "pred merge shape (885, 1576) before shape (885, 1)\n"
     ]
    },
    {
     "name": "stderr",
     "output_type": "stream",
     "text": [
      "\r",
      "Fitting models:  29%|██▊       | 2/7 [00:12<00:42,  8.47s/it]"
     ]
    },
    {
     "name": "stdout",
     "output_type": "stream",
     "text": [
      "pred merge shape (885, 1576) before shape (885, 1)"
     ]
    },
    {
     "name": "stderr",
     "output_type": "stream",
     "text": [
      "\r",
      "Fitting models:  43%|████▎     | 3/7 [00:12<00:23,  5.97s/it]"
     ]
    },
    {
     "name": "stdout",
     "output_type": "stream",
     "text": [
      "\n",
      "pred merge shape (885, 1576) before shape (885, 1)\n"
     ]
    },
    {
     "name": "stderr",
     "output_type": "stream",
     "text": [
      "Fitting models: 100%|██████████| 7/7 [00:21<00:00,  3.12s/it]"
     ]
    },
    {
     "name": "stdout",
     "output_type": "stream",
     "text": [
      "forecasts first key: aa\n",
      "total_part (7, 8) preds_part (7, 8)\n"
     ]
    },
    {
     "name": "stderr",
     "output_type": "stream",
     "text": [
      "\n",
      "Fitting models:   0%|          | 0/7 [00:00<?, ?it/s]"
     ]
    },
    {
     "name": "stdout",
     "output_type": "stream",
     "text": [
      "will create branch model - total\n",
      "   |- aa\n",
      "   |- ca\n",
      "   |- ac\n",
      "   |- cc\n",
      "   |- dc\n",
      "   - da\n",
      "----------\n",
      "will create leaf model - aa\n",
      "----------\n",
      "will create leaf model - ca\n",
      "----------\n",
      "will create leaf model - ac\n",
      "----------\n",
      "seasonality yearly 365.25 41 3.4673685045253233 added\n",
      "seasonality weekly 7 23 18.19700858609992 addedseasonality yearly 365.25 41 3.4673685045253233 added\n",
      "seasonality monthly 30.5 23 9.549925860214394 added\n",
      "\n",
      "seasonality weekly 7 23 18.19700858609992 addedreg\n",
      "seasonality monthly 30.5 23 9.549925860214394 added\n",
      "\n",
      "reg\n",
      "seasonality yearly 365.25 41 3.4673685045253233 added\n",
      "seasonality weekly 7 23 18.19700858609992 addedfit merge shape (885, 1577) before shape (885, 2)\n",
      "\n",
      "seasonality monthly 30.5 23 9.549925860214394 added\n",
      "fit merge shape (885, 1577) before shape (885, 2)reg\n",
      "\n"
     ]
    },
    {
     "name": "stderr",
     "output_type": "stream",
     "text": [
      "INFO:numexpr.utils:NumExpr defaulting to 4 threads.\n"
     ]
    },
    {
     "name": "stdout",
     "output_type": "stream",
     "text": [
      "seasonality yearly 365.25 41 3.4673685045253233 added\n",
      "seasonality weekly 7 23 18.19700858609992 added\n",
      "seasonality monthly 30.5 23 9.549925860214394 added\n",
      "fit merge shape (885, 1577) before shape (885, 2)\n"
     ]
    },
    {
     "name": "stderr",
     "output_type": "stream",
     "text": [
      "INFO:numexpr.utils:NumExpr defaulting to 4 threads.\n"
     ]
    },
    {
     "name": "stdout",
     "output_type": "stream",
     "text": [
      "reg\n",
      "fit merge shape (885, 1577) before shape (885, 2)\n"
     ]
    },
    {
     "name": "stderr",
     "output_type": "stream",
     "text": [
      "INFO:numexpr.utils:NumExpr defaulting to 4 threads.\n",
      "INFO:numexpr.utils:NumExpr defaulting to 4 threads.\n"
     ]
    },
    {
     "name": "stdout",
     "output_type": "stream",
     "text": [
      "will create leaf model - cc\n",
      "----------\n"
     ]
    },
    {
     "name": "stderr",
     "output_type": "stream",
     "text": [
      "\r",
      "Fitting models:  14%|█▍        | 1/7 [00:07<00:43,  7.28s/it]"
     ]
    },
    {
     "name": "stdout",
     "output_type": "stream",
     "text": [
      "seasonality yearly 365.25 41 3.4673685045253233 added\n",
      "seasonality weekly 7 23 18.19700858609992 added\n",
      "\n",
      "seasonality monthly 30.5 23 9.549925860214394 added\n",
      "regfit merge shape (885, 1577) before shape (885, 2)"
     ]
    },
    {
     "name": "stderr",
     "output_type": "stream",
     "text": [
      "\r",
      "Fitting models:  29%|██▊       | 2/7 [00:07<00:25,  5.15s/it]"
     ]
    },
    {
     "name": "stdout",
     "output_type": "stream",
     "text": [
      "\n",
      "will create leaf model - dc\n",
      "----------\n",
      "seasonality yearly 365.25 41 3.4673685045253233 added\n",
      "seasonality weekly 7 23 18.19700858609992 added\n",
      "seasonality monthly 30.5 23 9.549925860214394 added\n",
      "reg\n",
      "fit merge shape (885, 1577) before shape (885, 2)\n",
      "will create leaf model - da\n",
      "----------"
     ]
    },
    {
     "name": "stderr",
     "output_type": "stream",
     "text": [
      "\r",
      "Fitting models:  43%|████▎     | 3/7 [00:08<00:15,  3.87s/it]"
     ]
    },
    {
     "name": "stdout",
     "output_type": "stream",
     "text": [
      "\n",
      "seasonality yearly 365.25 41 3.4673685045253233 added\n",
      "seasonality weekly 7 23 18.19700858609992 added\n",
      "seasonality monthly 30.5 23 9.549925860214394 added\n",
      "reg\n",
      "fit merge shape (885, 1577) before shape (885, 2)\n"
     ]
    },
    {
     "name": "stderr",
     "output_type": "stream",
     "text": [
      "Fitting models: 100%|██████████| 7/7 [00:16<00:00,  2.32s/it]\n",
      "Fitting models:   0%|          | 0/7 [00:00<?, ?it/s]"
     ]
    },
    {
     "name": "stdout",
     "output_type": "stream",
     "text": [
      "pred merge shape (892, 1576) before shape (892, 1)\n",
      "pred merge shape (892, 1576) before shape (892, 1)\n",
      "pred merge shape (892, 1576) before shape (892, 1)\n",
      "pred merge shape (892, 1576) before shape (892, 1)\n"
     ]
    },
    {
     "name": "stderr",
     "output_type": "stream",
     "text": [
      "Fitting models:  29%|██▊       | 2/7 [00:12<00:43,  8.72s/it]"
     ]
    },
    {
     "name": "stdout",
     "output_type": "stream",
     "text": [
      "pred merge shape (892, 1576) before shape (892, 1)\n",
      "pred merge shape (892, 1576) before shape (892, 1)\n"
     ]
    },
    {
     "name": "stderr",
     "output_type": "stream",
     "text": [
      "\r",
      "Fitting models:  43%|████▎     | 3/7 [00:12<00:24,  6.20s/it]"
     ]
    },
    {
     "name": "stdout",
     "output_type": "stream",
     "text": [
      "pred merge shape (892, 1576) before shape (892, 1)\n"
     ]
    },
    {
     "name": "stderr",
     "output_type": "stream",
     "text": [
      "Fitting models: 100%|██████████| 7/7 [00:22<00:00,  3.20s/it]\n"
     ]
    },
    {
     "name": "stdout",
     "output_type": "stream",
     "text": [
      "forecasts first key: aa\n",
      "total_part (7, 8) preds_part (7, 8)\n"
     ]
    },
    {
     "name": "stderr",
     "output_type": "stream",
     "text": [
      "\r",
      "Fitting models:   0%|          | 0/7 [00:00<?, ?it/s]"
     ]
    },
    {
     "name": "stdout",
     "output_type": "stream",
     "text": [
      "will create branch model - total\n",
      "   |- aa\n",
      "   |- ca\n",
      "   |- ac\n",
      "   |- cc\n",
      "   |- dc\n",
      "   - da\n",
      "----------\n",
      "will create leaf model - aa\n",
      "----------\n",
      "will create leaf model - ca\n",
      "----------\n",
      "will create leaf model - ac\n",
      "----------\n",
      "seasonality yearly 365.25 41 3.4673685045253233 added\n",
      "seasonality weekly 7 23 18.19700858609992 added\n",
      "seasonality monthly 30.5 23 9.549925860214394 added\n",
      "reg\n",
      "seasonality yearly 365.25 41 3.4673685045253233 added\n",
      "seasonality weekly 7 23 18.19700858609992 added\n",
      "seasonality yearly 365.25 41 3.4673685045253233 addedseasonality monthly 30.5 23 9.549925860214394 addedfit merge shape (892, 1577) before shape (892, 2)\n",
      "\n",
      "seasonality weekly 7 23 18.19700858609992 added\n",
      "\n",
      "seasonality yearly 365.25 41 3.4673685045253233 added\n",
      "regseasonality weekly 7 23 18.19700858609992 addedseasonality monthly 30.5 23 9.549925860214394 added\n",
      "reg\n",
      "\n",
      "\n",
      "seasonality monthly 30.5 23 9.549925860214394 added\n",
      "reg\n"
     ]
    },
    {
     "name": "stderr",
     "output_type": "stream",
     "text": [
      "INFO:numexpr.utils:NumExpr defaulting to 4 threads.\n"
     ]
    },
    {
     "name": "stdout",
     "output_type": "stream",
     "text": [
      "fit merge shape (892, 1577) before shape (892, 2)\n",
      "fit merge shape (892, 1577) before shape (892, 2)\n",
      "fit merge shape (892, 1577) before shape (892, 2)\n"
     ]
    },
    {
     "name": "stderr",
     "output_type": "stream",
     "text": [
      "INFO:numexpr.utils:NumExpr defaulting to 4 threads.\n",
      "INFO:numexpr.utils:NumExpr defaulting to 4 threads.\n",
      "INFO:numexpr.utils:NumExpr defaulting to 4 threads.\n"
     ]
    },
    {
     "name": "stdout",
     "output_type": "stream",
     "text": [
      "will create leaf model - cc\n",
      "----------\n"
     ]
    },
    {
     "name": "stderr",
     "output_type": "stream",
     "text": [
      "\r",
      "Fitting models:  14%|█▍        | 1/7 [00:05<00:32,  5.41s/it]"
     ]
    },
    {
     "name": "stdout",
     "output_type": "stream",
     "text": [
      "seasonality yearly 365.25 41 3.4673685045253233 added\n",
      "seasonality weekly 7 23 18.19700858609992 added\n",
      "seasonality monthly 30.5 23 9.549925860214394 added\n",
      "reg\n",
      "fit merge shape (892, 1577) before shape (892, 2)\n",
      "will create leaf model - dc\n",
      "----------"
     ]
    },
    {
     "name": "stderr",
     "output_type": "stream",
     "text": [
      "\r",
      "Fitting models:  29%|██▊       | 2/7 [00:07<00:22,  4.45s/it]"
     ]
    },
    {
     "name": "stdout",
     "output_type": "stream",
     "text": [
      "\n",
      "seasonality yearly 365.25 41 3.4673685045253233 added\n",
      "seasonality weekly 7 23 18.19700858609992 added\n",
      "seasonality monthly 30.5 23 9.549925860214394 added\n",
      "reg\n",
      "fit merge shape (892, 1577) before shape (892, 2)\n"
     ]
    },
    {
     "name": "stderr",
     "output_type": "stream",
     "text": [
      "\r",
      "Fitting models:  43%|████▎     | 3/7 [00:12<00:18,  4.68s/it]"
     ]
    },
    {
     "name": "stdout",
     "output_type": "stream",
     "text": [
      "will create leaf model - da\n",
      "----------\n"
     ]
    },
    {
     "name": "stderr",
     "output_type": "stream",
     "text": [
      "\r",
      "Fitting models:  57%|█████▋    | 4/7 [00:12<00:09,  3.32s/it]"
     ]
    },
    {
     "name": "stdout",
     "output_type": "stream",
     "text": [
      "seasonality yearly 365.25 41 3.4673685045253233 added\n",
      "seasonality weekly 7 23 18.19700858609992 added\n",
      "seasonality monthly 30.5 23 9.549925860214394 added\n",
      "reg\n",
      "fit merge shape (892, 1577) before shape (892, 2)\n"
     ]
    },
    {
     "name": "stderr",
     "output_type": "stream",
     "text": [
      "Fitting models: 100%|██████████| 7/7 [00:17<00:00,  2.51s/it]\n",
      "Fitting models:   0%|          | 0/7 [00:00<?, ?it/s]"
     ]
    },
    {
     "name": "stdout",
     "output_type": "stream",
     "text": [
      "pred merge shape (899, 1576) before shape (899, 1)\n",
      "pred merge shape (899, 1576) before shape (899, 1)\n",
      "pred merge shape (899, 1576) before shape (899, 1)\n",
      "pred merge shape (899, 1576) before shape (899, 1)\n"
     ]
    },
    {
     "name": "stderr",
     "output_type": "stream",
     "text": [
      "Fitting models:  29%|██▊       | 2/7 [00:12<00:42,  8.59s/it]"
     ]
    },
    {
     "name": "stdout",
     "output_type": "stream",
     "text": [
      "pred merge shape (899, 1576) before shape (899, 1)\n",
      "pred merge shape (899, 1576) before shape (899, 1)\n",
      "pred merge shape (899, 1576) before shape (899, 1)\n"
     ]
    },
    {
     "name": "stderr",
     "output_type": "stream",
     "text": [
      "Fitting models: 100%|██████████| 7/7 [00:21<00:00,  3.10s/it]"
     ]
    },
    {
     "name": "stdout",
     "output_type": "stream",
     "text": [
      "forecasts first key: aa\n",
      "total_part (7, 8) preds_part (7, 8)\n"
     ]
    },
    {
     "name": "stderr",
     "output_type": "stream",
     "text": [
      "\n",
      "Fitting models:   0%|          | 0/7 [00:00<?, ?it/s]"
     ]
    },
    {
     "name": "stdout",
     "output_type": "stream",
     "text": [
      "will create branch model - total\n",
      "   |- aa\n",
      "   |- ca\n",
      "   |- ac\n",
      "   |- cc\n",
      "   |- dc\n",
      "   - da\n",
      "----------\n",
      "will create leaf model - aa\n",
      "----------\n",
      "will create leaf model - ca\n",
      "----------\n",
      "will create leaf model - ac\n",
      "----------\n",
      "seasonality yearly 365.25 41 3.4673685045253233 addedseasonality yearly 365.25 41 3.4673685045253233 added\n",
      "\n",
      "seasonality weekly 7 23 18.19700858609992 addedseasonality weekly 7 23 18.19700858609992 added\n",
      "seasonality monthly 30.5 23 9.549925860214394 added\n",
      "seasonality monthly 30.5 23 9.549925860214394 added\n",
      "\n",
      "regregseasonality yearly 365.25 41 3.4673685045253233 added\n",
      "\n",
      "\n",
      "seasonality weekly 7 23 18.19700858609992 added\n",
      "seasonality yearly 365.25 41 3.4673685045253233 addedseasonality monthly 30.5 23 9.549925860214394 added\n",
      "\n",
      "seasonality weekly 7 23 18.19700858609992 added\n",
      "reg\n",
      "seasonality monthly 30.5 23 9.549925860214394 added\n",
      "regfit merge shape (899, 1577) before shape (899, 2)\n",
      "\n",
      "fit merge shape (899, 1577) before shape (899, 2)\n",
      "fit merge shape (899, 1577) before shape (899, 2)fit merge shape (899, 1577) before shape (899, 2)\n",
      "\n"
     ]
    },
    {
     "name": "stderr",
     "output_type": "stream",
     "text": [
      "INFO:numexpr.utils:NumExpr defaulting to 4 threads.\n",
      "INFO:numexpr.utils:NumExpr defaulting to 4 threads.\n",
      "INFO:numexpr.utils:NumExpr defaulting to 4 threads.\n",
      "INFO:numexpr.utils:NumExpr defaulting to 4 threads.\n"
     ]
    },
    {
     "name": "stdout",
     "output_type": "stream",
     "text": [
      "will create leaf model - cc\n",
      "----------\n"
     ]
    },
    {
     "name": "stderr",
     "output_type": "stream",
     "text": [
      "\r",
      "Fitting models:  14%|█▍        | 1/7 [00:08<00:53,  8.90s/it]"
     ]
    },
    {
     "name": "stdout",
     "output_type": "stream",
     "text": [
      "seasonality yearly 365.25 41 3.4673685045253233 added\n",
      "seasonality weekly 7 23 18.19700858609992 added\n",
      "seasonality monthly 30.5 23 9.549925860214394 added\n",
      "reg\n",
      "fit merge shape (899, 1577) before shape (899, 2)\n",
      "will create leaf model - dc\n",
      "----------"
     ]
    },
    {
     "name": "stderr",
     "output_type": "stream",
     "text": [
      "\r",
      "Fitting models:  29%|██▊       | 2/7 [00:09<00:31,  6.39s/it]"
     ]
    },
    {
     "name": "stdout",
     "output_type": "stream",
     "text": [
      "\n",
      "seasonality yearly 365.25 41 3.4673685045253233 added\n",
      "seasonality weekly 7 23 18.19700858609992 added\n",
      "seasonality monthly 30.5 23 9.549925860214394 added\n",
      "reg\n",
      "fit merge shape (899, 1577) before shape (899, 2)\n"
     ]
    },
    {
     "name": "stderr",
     "output_type": "stream",
     "text": [
      "\r",
      "Fitting models:  43%|████▎     | 3/7 [00:12<00:21,  5.37s/it]"
     ]
    },
    {
     "name": "stdout",
     "output_type": "stream",
     "text": [
      "will create leaf model - da\n",
      "----------\n",
      "seasonality yearly 365.25 41 3.4673685045253233 added\n",
      "seasonality weekly 7 23 18.19700858609992 added\n",
      "seasonality monthly 30.5 23 9.549925860214394 added\n",
      "reg\n",
      "fit merge shape (899, 1577) before shape (899, 2)\n"
     ]
    },
    {
     "name": "stderr",
     "output_type": "stream",
     "text": [
      "Fitting models: 100%|██████████| 7/7 [00:19<00:00,  2.81s/it]\n",
      "Fitting models:   0%|          | 0/7 [00:00<?, ?it/s]"
     ]
    },
    {
     "name": "stdout",
     "output_type": "stream",
     "text": [
      "pred merge shape (906, 1576) before shape (906, 1)\n",
      "pred merge shape (906, 1576) before shape (906, 1)\n",
      "pred merge shape (906, 1576) before shape (906, 1)\n",
      "pred merge shape (906, 1576) before shape (906, 1)\n"
     ]
    },
    {
     "name": "stderr",
     "output_type": "stream",
     "text": [
      "Fitting models:  29%|██▊       | 2/7 [00:15<00:53, 10.65s/it]"
     ]
    },
    {
     "name": "stdout",
     "output_type": "stream",
     "text": [
      "pred merge shape (906, 1576) before shape (906, 1)pred merge shape (906, 1576) before shape (906, 1)\n",
      "\n"
     ]
    },
    {
     "name": "stderr",
     "output_type": "stream",
     "text": [
      "\r",
      "Fitting models:  43%|████▎     | 3/7 [00:15<00:30,  7.55s/it]"
     ]
    },
    {
     "name": "stdout",
     "output_type": "stream",
     "text": [
      "pred merge shape (906, 1576) before shape (906, 1)\n"
     ]
    },
    {
     "name": "stderr",
     "output_type": "stream",
     "text": [
      "Fitting models: 100%|██████████| 7/7 [00:27<00:00,  3.90s/it]"
     ]
    },
    {
     "name": "stdout",
     "output_type": "stream",
     "text": [
      "forecasts first key: total\n",
      "total_part (7, 8) preds_part (7, 8)\n"
     ]
    },
    {
     "name": "stderr",
     "output_type": "stream",
     "text": [
      "\n",
      "Fitting models:   0%|          | 0/7 [00:00<?, ?it/s]"
     ]
    },
    {
     "name": "stdout",
     "output_type": "stream",
     "text": [
      "will create branch model - total\n",
      "   |- aa\n",
      "   |- ca\n",
      "   |- ac\n",
      "   |- cc\n",
      "   |- dc\n",
      "   - da\n",
      "----------\n",
      "will create leaf model - aa\n",
      "----------\n",
      "will create leaf model - ca\n",
      "----------\n",
      "will create leaf model - ac\n",
      "----------\n",
      "seasonality yearly 365.25 41 3.4673685045253233 added\n",
      "seasonality weekly 7 23 18.19700858609992 addedseasonality yearly 365.25 41 3.4673685045253233 added\n",
      "seasonality monthly 30.5 23 9.549925860214394 added\n",
      "\n",
      "regseasonality weekly 7 23 18.19700858609992 added\n",
      "\n",
      "seasonality yearly 365.25 41 3.4673685045253233 added\n",
      "seasonality monthly 30.5 23 9.549925860214394 addedseasonality weekly 7 23 18.19700858609992 addedseasonality yearly 365.25 41 3.4673685045253233 added\n",
      "\n",
      "\n",
      "seasonality monthly 30.5 23 9.549925860214394 addedregseasonality weekly 7 23 18.19700858609992 added\n",
      "\n",
      "\n",
      "regseasonality monthly 30.5 23 9.549925860214394 added\n",
      "\n",
      "regfit merge shape (906, 1577) before shape (906, 2)\n",
      "\n",
      "fit merge shape (906, 1577) before shape (906, 2)fit merge shape (906, 1577) before shape (906, 2)\n",
      "\n"
     ]
    },
    {
     "name": "stderr",
     "output_type": "stream",
     "text": [
      "INFO:numexpr.utils:NumExpr defaulting to 4 threads.\n"
     ]
    },
    {
     "name": "stdout",
     "output_type": "stream",
     "text": [
      "fit merge shape (906, 1577) before shape (906, 2)\n"
     ]
    },
    {
     "name": "stderr",
     "output_type": "stream",
     "text": [
      "INFO:numexpr.utils:NumExpr defaulting to 4 threads.\n",
      "INFO:numexpr.utils:NumExpr defaulting to 4 threads.\n",
      "INFO:numexpr.utils:NumExpr defaulting to 4 threads.\n"
     ]
    },
    {
     "name": "stdout",
     "output_type": "stream",
     "text": [
      "will create leaf model - cc\n",
      "----------\n"
     ]
    },
    {
     "name": "stderr",
     "output_type": "stream",
     "text": [
      "\r",
      "Fitting models:  14%|█▍        | 1/7 [00:07<00:44,  7.45s/it]"
     ]
    },
    {
     "name": "stdout",
     "output_type": "stream",
     "text": [
      "seasonality yearly 365.25 41 3.4673685045253233 added\n",
      "seasonality weekly 7 23 18.19700858609992 added\n",
      "seasonality monthly 30.5 23 9.549925860214394 added\n",
      "reg\n",
      "fit merge shape (906, 1577) before shape (906, 2)\n"
     ]
    },
    {
     "name": "stderr",
     "output_type": "stream",
     "text": [
      "\r",
      "Fitting models:  29%|██▊       | 2/7 [00:08<00:27,  5.57s/it]"
     ]
    },
    {
     "name": "stdout",
     "output_type": "stream",
     "text": [
      "will create leaf model - dc\n",
      "----------\n",
      "seasonality yearly 365.25 41 3.4673685045253233 added\n",
      "seasonality weekly 7 23 18.19700858609992 added\n",
      "seasonality monthly 30.5 23 9.549925860214394 added\n",
      "reg\n",
      "fit merge shape (906, 1577) before shape (906, 2)\n"
     ]
    },
    {
     "name": "stderr",
     "output_type": "stream",
     "text": [
      "\r",
      "Fitting models:  43%|████▎     | 3/7 [00:10<00:17,  4.31s/it]"
     ]
    },
    {
     "name": "stdout",
     "output_type": "stream",
     "text": [
      "will create leaf model - da\n",
      "----------\n",
      "seasonality yearly 365.25 41 3.4673685045253233 added\n",
      "seasonality weekly 7 23 18.19700858609992 added\n",
      "seasonality monthly 30.5 23 9.549925860214394 added\n",
      "reg\n",
      "fit merge shape (906, 1577) before shape (906, 2)\n"
     ]
    },
    {
     "name": "stderr",
     "output_type": "stream",
     "text": [
      "Fitting models: 100%|██████████| 7/7 [00:17<00:00,  2.52s/it]\n",
      "Fitting models:   0%|          | 0/7 [00:00<?, ?it/s]"
     ]
    },
    {
     "name": "stdout",
     "output_type": "stream",
     "text": [
      "pred merge shape (913, 1576) before shape (913, 1)\n",
      "pred merge shape (913, 1576) before shape (913, 1)\n",
      "pred merge shape (913, 1576) before shape (913, 1)\n",
      "pred merge shape (913, 1576) before shape (913, 1)\n"
     ]
    },
    {
     "name": "stderr",
     "output_type": "stream",
     "text": [
      "\r",
      "Fitting models:  14%|█▍        | 1/7 [00:12<01:12, 12.14s/it]"
     ]
    },
    {
     "name": "stdout",
     "output_type": "stream",
     "text": [
      "pred merge shape (913, 1576) before shape (913, 1)\n"
     ]
    },
    {
     "name": "stderr",
     "output_type": "stream",
     "text": [
      "Fitting models:  43%|████▎     | 3/7 [00:13<00:25,  6.25s/it]"
     ]
    },
    {
     "name": "stdout",
     "output_type": "stream",
     "text": [
      "pred merge shape (913, 1576) before shape (913, 1)\n"
     ]
    },
    {
     "name": "stderr",
     "output_type": "stream",
     "text": [
      "\r",
      "Fitting models:  57%|█████▋    | 4/7 [00:13<00:13,  4.41s/it]"
     ]
    },
    {
     "name": "stdout",
     "output_type": "stream",
     "text": [
      "pred merge shape (913, 1576) before shape (913, 1)\n"
     ]
    },
    {
     "name": "stderr",
     "output_type": "stream",
     "text": [
      "Fitting models: 100%|██████████| 7/7 [00:22<00:00,  3.18s/it]\n"
     ]
    },
    {
     "name": "stdout",
     "output_type": "stream",
     "text": [
      "forecasts first key: total\n",
      "total_part (7, 8) preds_part (7, 8)\n"
     ]
    },
    {
     "name": "stderr",
     "output_type": "stream",
     "text": [
      "\r",
      "Fitting models:   0%|          | 0/7 [00:00<?, ?it/s]"
     ]
    },
    {
     "name": "stdout",
     "output_type": "stream",
     "text": [
      "will create branch model - total\n",
      "   |- aa\n",
      "   |- ca\n",
      "   |- ac\n",
      "   |- cc\n",
      "   |- dc\n",
      "   - da\n",
      "----------\n",
      "will create leaf model - aa\n",
      "----------\n",
      "will create leaf model - ca\n",
      "----------\n",
      "will create leaf model - ac\n",
      "----------\n",
      "seasonality yearly 365.25 41 3.4673685045253233 added\n",
      "seasonality weekly 7 23 18.19700858609992 added\n",
      "seasonality monthly 30.5 23 9.549925860214394 added\n",
      "regseasonality yearly 365.25 41 3.4673685045253233 added\n",
      "\n",
      "seasonality weekly 7 23 18.19700858609992 added\n",
      "seasonality monthly 30.5 23 9.549925860214394 addedseasonality yearly 365.25 41 3.4673685045253233 added\n",
      "\n",
      "seasonality weekly 7 23 18.19700858609992 addedreg\n",
      "\n",
      "seasonality monthly 30.5 23 9.549925860214394 addedfit merge shape (913, 1577) before shape (913, 2)\n",
      "reg\n",
      "\n",
      "fit merge shape (913, 1577) before shape (913, 2)fit merge shape (913, 1577) before shape (913, 2)\n",
      "\n",
      "seasonality yearly 365.25 41 3.4673685045253233 added"
     ]
    },
    {
     "name": "stderr",
     "output_type": "stream",
     "text": [
      "INFO:numexpr.utils:NumExpr defaulting to 4 threads.\n"
     ]
    },
    {
     "name": "stdout",
     "output_type": "stream",
     "text": [
      "\n",
      "seasonality weekly 7 23 18.19700858609992 added\n",
      "seasonality monthly 30.5 23 9.549925860214394 added\n",
      "reg\n"
     ]
    },
    {
     "name": "stderr",
     "output_type": "stream",
     "text": [
      "INFO:numexpr.utils:NumExpr defaulting to 4 threads.\n",
      "INFO:numexpr.utils:NumExpr defaulting to 4 threads.\n"
     ]
    },
    {
     "name": "stdout",
     "output_type": "stream",
     "text": [
      "fit merge shape (913, 1577) before shape (913, 2)\n"
     ]
    },
    {
     "name": "stderr",
     "output_type": "stream",
     "text": [
      "INFO:numexpr.utils:NumExpr defaulting to 4 threads.\n"
     ]
    },
    {
     "name": "stdout",
     "output_type": "stream",
     "text": [
      "will create leaf model - cc\n",
      "----------\n"
     ]
    },
    {
     "name": "stderr",
     "output_type": "stream",
     "text": [
      "Fitting models:  29%|██▊       | 2/7 [00:08<00:28,  5.76s/it]"
     ]
    },
    {
     "name": "stdout",
     "output_type": "stream",
     "text": [
      "seasonality yearly 365.25 41 3.4673685045253233 addedwill create leaf model - dc\n",
      "----------\n",
      "\n",
      "seasonality weekly 7 23 18.19700858609992 added\n",
      "seasonality monthly 30.5 23 9.549925860214394 added\n",
      "reg\n",
      "seasonality yearly 365.25 41 3.4673685045253233 added\n",
      "seasonality weekly 7 23 18.19700858609992 added\n",
      "seasonality monthly 30.5 23 9.549925860214394 added\n",
      "reg\n",
      "fit merge shape (913, 1577) before shape (913, 2)\n",
      "fit merge shape (913, 1577) before shape (913, 2)\n"
     ]
    },
    {
     "name": "stderr",
     "output_type": "stream",
     "text": [
      "\r",
      "Fitting models:  43%|████▎     | 3/7 [00:09<00:18,  4.52s/it]"
     ]
    },
    {
     "name": "stdout",
     "output_type": "stream",
     "text": [
      "will create leaf model - da\n",
      "----------\n",
      "seasonality yearly 365.25 41 3.4673685045253233 added\n",
      "seasonality weekly 7 23 18.19700858609992 added\n",
      "seasonality monthly 30.5 23 9.549925860214394 added\n",
      "reg\n",
      "fit merge shape (913, 1577) before shape (913, 2)\n"
     ]
    },
    {
     "name": "stderr",
     "output_type": "stream",
     "text": [
      "Fitting models: 100%|██████████| 7/7 [00:18<00:00,  2.68s/it]\n",
      "Fitting models:   0%|          | 0/7 [00:00<?, ?it/s]"
     ]
    },
    {
     "name": "stdout",
     "output_type": "stream",
     "text": [
      "pred merge shape (920, 1576) before shape (920, 1)\n",
      "pred merge shape (920, 1576) before shape (920, 1)\n",
      "pred merge shape (920, 1576) before shape (920, 1)\n",
      "pred merge shape (920, 1576) before shape (920, 1)\n"
     ]
    },
    {
     "name": "stderr",
     "output_type": "stream",
     "text": [
      "\r",
      "Fitting models:  14%|█▍        | 1/7 [00:14<01:27, 14.54s/it]"
     ]
    },
    {
     "name": "stdout",
     "output_type": "stream",
     "text": [
      "pred merge shape (920, 1576) before shape (920, 1)\n"
     ]
    },
    {
     "name": "stderr",
     "output_type": "stream",
     "text": [
      "Fitting models:  57%|█████▋    | 4/7 [00:15<00:22,  7.36s/it]"
     ]
    },
    {
     "name": "stdout",
     "output_type": "stream",
     "text": [
      "pred merge shape (920, 1576) before shape (920, 1)\n",
      "pred merge shape (920, 1576) before shape (920, 1)\n"
     ]
    },
    {
     "name": "stderr",
     "output_type": "stream",
     "text": [
      "Fitting models: 100%|██████████| 7/7 [00:25<00:00,  3.71s/it]\n"
     ]
    },
    {
     "name": "stdout",
     "output_type": "stream",
     "text": [
      "forecasts first key: total\n",
      "total_part (7, 8) preds_part (7, 8)\n"
     ]
    },
    {
     "name": "stderr",
     "output_type": "stream",
     "text": [
      "\r",
      "Fitting models:   0%|          | 0/7 [00:00<?, ?it/s]"
     ]
    },
    {
     "name": "stdout",
     "output_type": "stream",
     "text": [
      "will create branch model - total\n",
      "   |- aa\n",
      "   |- ca\n",
      "   |- ac\n",
      "   |- cc\n",
      "   |- dc\n",
      "   - da\n",
      "----------\n",
      "will create leaf model - aa\n",
      "----------\n",
      "will create leaf model - ca\n",
      "----------\n",
      "will create leaf model - ac\n",
      "----------\n",
      "seasonality yearly 365.25 41 3.4673685045253233 added\n",
      "seasonality weekly 7 23 18.19700858609992 added\n",
      "seasonality monthly 30.5 23 9.549925860214394 added\n",
      "reg\n",
      "seasonality yearly 365.25 41 3.4673685045253233 added\n",
      "seasonality weekly 7 23 18.19700858609992 added\n",
      "fit merge shape (920, 1577) before shape (920, 2)\n",
      "seasonality monthly 30.5 23 9.549925860214394 added\n",
      "reg\n"
     ]
    },
    {
     "name": "stderr",
     "output_type": "stream",
     "text": [
      "INFO:numexpr.utils:NumExpr defaulting to 4 threads.\n"
     ]
    },
    {
     "name": "stdout",
     "output_type": "stream",
     "text": [
      "seasonality yearly 365.25 41 3.4673685045253233 added\n",
      "fit merge shape (920, 1577) before shape (920, 2)seasonality weekly 7 23 18.19700858609992 added\n",
      "\n",
      "seasonality yearly 365.25 41 3.4673685045253233 addedseasonality monthly 30.5 23 9.549925860214394 added\n",
      "seasonality weekly 7 23 18.19700858609992 added\n",
      "reg\n",
      "seasonality monthly 30.5 23 9.549925860214394 added\n",
      "\n",
      "reg\n"
     ]
    },
    {
     "name": "stderr",
     "output_type": "stream",
     "text": [
      "INFO:numexpr.utils:NumExpr defaulting to 4 threads.\n"
     ]
    },
    {
     "name": "stdout",
     "output_type": "stream",
     "text": [
      "fit merge shape (920, 1577) before shape (920, 2)\n",
      "fit merge shape (920, 1577) before shape (920, 2)\n"
     ]
    },
    {
     "name": "stderr",
     "output_type": "stream",
     "text": [
      "INFO:numexpr.utils:NumExpr defaulting to 4 threads.\n",
      "INFO:numexpr.utils:NumExpr defaulting to 4 threads.\n"
     ]
    },
    {
     "name": "stdout",
     "output_type": "stream",
     "text": [
      "will create leaf model - cc\n",
      "----------\n"
     ]
    },
    {
     "name": "stderr",
     "output_type": "stream",
     "text": [
      "\r",
      "Fitting models:  14%|█▍        | 1/7 [00:07<00:43,  7.25s/it]"
     ]
    },
    {
     "name": "stdout",
     "output_type": "stream",
     "text": [
      "seasonality yearly 365.25 41 3.4673685045253233 added\n",
      "seasonality weekly 7 23 18.19700858609992 added\n",
      "seasonality monthly 30.5 23 9.549925860214394 added\n",
      "reg\n",
      "fit merge shape (920, 1577) before shape (920, 2)\n",
      "will create leaf model - dc\n",
      "----------"
     ]
    },
    {
     "name": "stderr",
     "output_type": "stream",
     "text": [
      "\r",
      "Fitting models:  29%|██▊       | 2/7 [00:12<00:33,  6.75s/it]"
     ]
    },
    {
     "name": "stdout",
     "output_type": "stream",
     "text": [
      "\n",
      "seasonality yearly 365.25 41 3.4673685045253233 added\n",
      "seasonality weekly 7 23 18.19700858609992 added\n",
      "seasonality monthly 30.5 23 9.549925860214394 added\n",
      "reg\n",
      "fit merge shape (920, 1577) before shape (920, 2)\n"
     ]
    },
    {
     "name": "stderr",
     "output_type": "stream",
     "text": [
      "\r",
      "Fitting models:  43%|████▎     | 3/7 [00:14<00:20,  5.22s/it]"
     ]
    },
    {
     "name": "stdout",
     "output_type": "stream",
     "text": [
      "will create leaf model - da\n",
      "----------\n",
      "seasonality yearly 365.25 41 3.4673685045253233 added\n",
      "seasonality weekly 7 23 18.19700858609992 added\n",
      "seasonality monthly 30.5 23 9.549925860214394 added\n",
      "reg\n",
      "fit merge shape (920, 1577) before shape (920, 2)\n"
     ]
    },
    {
     "name": "stderr",
     "output_type": "stream",
     "text": [
      "Fitting models: 100%|██████████| 7/7 [00:19<00:00,  2.79s/it]\n",
      "Fitting models:   0%|          | 0/7 [00:00<?, ?it/s]"
     ]
    },
    {
     "name": "stdout",
     "output_type": "stream",
     "text": [
      "pred merge shape (927, 1576) before shape (927, 1)\n",
      "pred merge shape (927, 1576) before shape (927, 1)\n",
      "pred merge shape (927, 1576) before shape (927, 1)\n",
      "pred merge shape (927, 1576) before shape (927, 1)\n"
     ]
    },
    {
     "name": "stderr",
     "output_type": "stream",
     "text": [
      "Fitting models:  29%|██▊       | 2/7 [00:13<00:45,  9.13s/it]"
     ]
    },
    {
     "name": "stdout",
     "output_type": "stream",
     "text": [
      "pred merge shape (927, 1576) before shape (927, 1)\n"
     ]
    },
    {
     "name": "stderr",
     "output_type": "stream",
     "text": [
      "\r",
      "Fitting models:  43%|████▎     | 3/7 [00:13<00:25,  6.45s/it]"
     ]
    },
    {
     "name": "stdout",
     "output_type": "stream",
     "text": [
      "pred merge shape (927, 1576) before shape (927, 1)\n",
      "pred merge shape (927, 1576) before shape (927, 1)\n"
     ]
    },
    {
     "name": "stderr",
     "output_type": "stream",
     "text": [
      "Fitting models: 100%|██████████| 7/7 [00:22<00:00,  3.28s/it]\n"
     ]
    },
    {
     "name": "stdout",
     "output_type": "stream",
     "text": [
      "forecasts first key: total\n",
      "total_part (7, 8) preds_part (7, 8)\n"
     ]
    },
    {
     "name": "stderr",
     "output_type": "stream",
     "text": [
      "\r",
      "Fitting models:   0%|          | 0/7 [00:00<?, ?it/s]"
     ]
    },
    {
     "name": "stdout",
     "output_type": "stream",
     "text": [
      "will create branch model - total\n",
      "   |- aa\n",
      "   |- ca\n",
      "   |- ac\n",
      "   |- cc\n",
      "   |- dc\n",
      "   - da\n",
      "----------\n",
      "will create leaf model - aa\n",
      "----------\n",
      "will create leaf model - ca\n",
      "----------\n",
      "will create leaf model - ac\n",
      "----------\n",
      "seasonality yearly 365.25 41 3.4673685045253233 added\n",
      "seasonality yearly 365.25 41 3.4673685045253233 added\n",
      "seasonality weekly 7 23 18.19700858609992 added\n",
      "seasonality monthly 30.5 23 9.549925860214394 addedseasonality weekly 7 23 18.19700858609992 added\n",
      "reg\n",
      "\n",
      "seasonality monthly 30.5 23 9.549925860214394 added\n",
      "reg\n",
      "fit merge shape (927, 1577) before shape (927, 2)\n",
      "seasonality yearly 365.25 41 3.4673685045253233 added\n",
      "seasonality weekly 7 23 18.19700858609992 added\n",
      "seasonality monthly 30.5 23 9.549925860214394 added\n",
      "reg\n"
     ]
    },
    {
     "name": "stderr",
     "output_type": "stream",
     "text": [
      "INFO:numexpr.utils:NumExpr defaulting to 4 threads.\n"
     ]
    },
    {
     "name": "stdout",
     "output_type": "stream",
     "text": [
      "fit merge shape (927, 1577) before shape (927, 2)seasonality yearly 365.25 41 3.4673685045253233 added\n",
      "\n",
      "seasonality weekly 7 23 18.19700858609992 added\n",
      "seasonality monthly 30.5 23 9.549925860214394 added\n",
      "reg\n"
     ]
    },
    {
     "name": "stderr",
     "output_type": "stream",
     "text": [
      "INFO:numexpr.utils:NumExpr defaulting to 4 threads.\n"
     ]
    },
    {
     "name": "stdout",
     "output_type": "stream",
     "text": [
      "fit merge shape (927, 1577) before shape (927, 2)\n",
      "fit merge shape (927, 1577) before shape (927, 2)\n"
     ]
    },
    {
     "name": "stderr",
     "output_type": "stream",
     "text": [
      "INFO:numexpr.utils:NumExpr defaulting to 4 threads.\n",
      "INFO:numexpr.utils:NumExpr defaulting to 4 threads.\n"
     ]
    },
    {
     "name": "stdout",
     "output_type": "stream",
     "text": [
      "will create leaf model - cc\n",
      "----------\n"
     ]
    },
    {
     "name": "stderr",
     "output_type": "stream",
     "text": [
      "\r",
      "Fitting models:  14%|█▍        | 1/7 [00:09<00:56,  9.34s/it]"
     ]
    },
    {
     "name": "stdout",
     "output_type": "stream",
     "text": [
      "seasonality yearly 365.25 41 3.4673685045253233 added\n",
      "seasonality weekly 7 23 18.19700858609992 added\n",
      "seasonality monthly 30.5 23 9.549925860214394 added\n",
      "reg\n",
      "fit merge shape (927, 1577) before shape (927, 2)\n",
      "will create leaf model - dc\n",
      "----------\n"
     ]
    },
    {
     "name": "stderr",
     "output_type": "stream",
     "text": [
      "\r",
      "Fitting models:  29%|██▊       | 2/7 [00:12<00:36,  7.39s/it]"
     ]
    },
    {
     "name": "stdout",
     "output_type": "stream",
     "text": [
      "seasonality yearly 365.25 41 3.4673685045253233 added\n",
      "seasonality weekly 7 23 18.19700858609992 added\n",
      "seasonality monthly 30.5 23 9.549925860214394 added\n",
      "reg\n",
      "fit merge shape (927, 1577) before shape (927, 2)\n"
     ]
    },
    {
     "name": "stderr",
     "output_type": "stream",
     "text": [
      "\r",
      "Fitting models:  43%|████▎     | 3/7 [00:12<00:21,  5.33s/it]"
     ]
    },
    {
     "name": "stdout",
     "output_type": "stream",
     "text": [
      "will create leaf model - da\n",
      "----------\n",
      "seasonality yearly 365.25 41 3.4673685045253233 added\n",
      "seasonality weekly 7 23 18.19700858609992 added\n",
      "seasonality monthly 30.5 23 9.549925860214394 added\n",
      "reg\n",
      "fit merge shape (927, 1577) before shape (927, 2)\n"
     ]
    },
    {
     "name": "stderr",
     "output_type": "stream",
     "text": [
      "Fitting models: 100%|██████████| 7/7 [00:19<00:00,  2.79s/it]\n",
      "Fitting models:   0%|          | 0/7 [00:00<?, ?it/s]"
     ]
    },
    {
     "name": "stdout",
     "output_type": "stream",
     "text": [
      "pred merge shape (934, 1576) before shape (934, 1)\n",
      "pred merge shape (934, 1576) before shape (934, 1)\n",
      "pred merge shape (934, 1576) before shape (934, 1)\n",
      "pred merge shape (934, 1576) before shape (934, 1)\n"
     ]
    },
    {
     "name": "stderr",
     "output_type": "stream",
     "text": [
      "Fitting models:  29%|██▊       | 2/7 [00:11<00:41,  8.27s/it]"
     ]
    },
    {
     "name": "stdout",
     "output_type": "stream",
     "text": [
      "pred merge shape (934, 1576) before shape (934, 1)\n",
      "pred merge shape (934, 1576) before shape (934, 1)\n",
      "pred merge shape (934, 1576) before shape (934, 1)\n"
     ]
    },
    {
     "name": "stderr",
     "output_type": "stream",
     "text": [
      "Fitting models: 100%|██████████| 7/7 [00:25<00:00,  3.63s/it]\n"
     ]
    },
    {
     "name": "stdout",
     "output_type": "stream",
     "text": [
      "forecasts first key: aa\n",
      "total_part (7, 8) preds_part (7, 8)\n"
     ]
    }
   ],
   "source": [
    "best_fit_score = object_func(best_kw)"
   ]
  },
  {
   "cell_type": "code",
   "execution_count": 26,
   "metadata": {},
   "outputs": [
    {
     "data": {
      "text/plain": [
       "0.07918956292807502"
      ]
     },
     "execution_count": 26,
     "metadata": {},
     "output_type": "execute_result"
    }
   ],
   "source": [
    "best_fit_score"
   ]
  },
  {
   "cell_type": "code",
   "execution_count": null,
   "metadata": {},
   "outputs": [],
   "source": []
  }
 ],
 "metadata": {
  "kernelspec": {
   "display_name": "Python 3",
   "language": "python",
   "name": "python3"
  },
  "language_info": {
   "codemirror_mode": {
    "name": "ipython",
    "version": 3
   },
   "file_extension": ".py",
   "mimetype": "text/x-python",
   "name": "python",
   "nbconvert_exporter": "python",
   "pygments_lexer": "ipython3",
   "version": "3.8.3"
  }
 },
 "nbformat": 4,
 "nbformat_minor": 4
}
